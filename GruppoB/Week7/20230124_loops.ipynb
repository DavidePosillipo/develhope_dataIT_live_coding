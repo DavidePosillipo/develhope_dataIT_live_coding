{
 "cells": [
  {
   "cell_type": "markdown",
   "id": "f6c70746",
   "metadata": {},
   "source": [
    "### Cicli for"
   ]
  },
  {
   "cell_type": "code",
   "execution_count": 2,
   "id": "8d818c73",
   "metadata": {},
   "outputs": [],
   "source": [
    "# for indice in iterable:\n",
    "#    fai qualcosa"
   ]
  },
  {
   "cell_type": "markdown",
   "id": "a2600859",
   "metadata": {},
   "source": [
    "iterable possono essere liste, stringhe, tuple, dizionari, insiemi (set), e custom classes dichiarate come iterable"
   ]
  },
  {
   "cell_type": "code",
   "execution_count": 3,
   "id": "4fa57e77",
   "metadata": {},
   "outputs": [
    {
     "name": "stdout",
     "output_type": "stream",
     "text": [
      "10\n",
      "20\n",
      "30\n",
      "40\n"
     ]
    }
   ],
   "source": [
    "l1 = [10, 20, 30, 40]\n",
    "\n",
    "for elemento in l1:\n",
    "    print(elemento)"
   ]
  },
  {
   "cell_type": "code",
   "execution_count": 4,
   "id": "986138e5",
   "metadata": {},
   "outputs": [
    {
     "name": "stdout",
     "output_type": "stream",
     "text": [
      "[10, 20, 30, 40]\n"
     ]
    }
   ],
   "source": [
    "l2 = []\n",
    "for elemento in l1:\n",
    "    l2.append(elemento)\n",
    "    \n",
    "print(l2)"
   ]
  },
  {
   "cell_type": "code",
   "execution_count": 5,
   "id": "7659e470",
   "metadata": {},
   "outputs": [],
   "source": [
    "# List comprehension\n",
    "l3 = [elemento for elemento in l1]"
   ]
  },
  {
   "cell_type": "code",
   "execution_count": 6,
   "id": "76ecfdcd",
   "metadata": {},
   "outputs": [
    {
     "data": {
      "text/plain": [
       "[10, 20, 30, 40]"
      ]
     },
     "execution_count": 6,
     "metadata": {},
     "output_type": "execute_result"
    }
   ],
   "source": [
    "l3"
   ]
  },
  {
   "cell_type": "code",
   "execution_count": 7,
   "id": "414e47eb",
   "metadata": {},
   "outputs": [
    {
     "data": {
      "text/plain": [
       "[20, 40, 60, 80]"
      ]
     },
     "execution_count": 7,
     "metadata": {},
     "output_type": "execute_result"
    }
   ],
   "source": [
    "[elemento*2 for elemento in l1]"
   ]
  },
  {
   "cell_type": "markdown",
   "id": "041cbf80",
   "metadata": {},
   "source": [
    "#### List comprehension con if e else"
   ]
  },
  {
   "cell_type": "code",
   "execution_count": 9,
   "id": "afd66ad3",
   "metadata": {},
   "outputs": [
    {
     "data": {
      "text/plain": [
       "[30, 40]"
      ]
     },
     "execution_count": 9,
     "metadata": {},
     "output_type": "execute_result"
    }
   ],
   "source": [
    "[elemento for elemento in l1 if elemento >= 30]"
   ]
  },
  {
   "cell_type": "code",
   "execution_count": 10,
   "id": "e536e373",
   "metadata": {},
   "outputs": [
    {
     "data": {
      "text/plain": [
       "[30, 40]"
      ]
     },
     "execution_count": 10,
     "metadata": {},
     "output_type": "execute_result"
    }
   ],
   "source": [
    "out = []\n",
    "for elemento in l1:\n",
    "    if elemento >= 30:\n",
    "        out.append(elemento)\n",
    "        \n",
    "out"
   ]
  },
  {
   "cell_type": "code",
   "execution_count": 13,
   "id": "a87be73b",
   "metadata": {},
   "outputs": [
    {
     "data": {
      "text/plain": [
       "[None, None, 30, 40]"
      ]
     },
     "execution_count": 13,
     "metadata": {},
     "output_type": "execute_result"
    }
   ],
   "source": [
    "[elemento if elemento >= 30 else None for elemento in l1]"
   ]
  },
  {
   "cell_type": "code",
   "execution_count": 14,
   "id": "3b7504a5",
   "metadata": {},
   "outputs": [
    {
     "data": {
      "text/plain": [
       "[None, None, 30, 40]"
      ]
     },
     "execution_count": 14,
     "metadata": {},
     "output_type": "execute_result"
    }
   ],
   "source": [
    "out = []\n",
    "for elemento in l1:\n",
    "    if elemento >= 30:\n",
    "        out.append(elemento)\n",
    "    else:\n",
    "        out.append(None)\n",
    "        \n",
    "out"
   ]
  },
  {
   "cell_type": "markdown",
   "id": "68480bd9",
   "metadata": {},
   "source": [
    "## Ciclo While"
   ]
  },
  {
   "cell_type": "code",
   "execution_count": null,
   "id": "708d481c",
   "metadata": {},
   "outputs": [],
   "source": [
    "# while condizione:\n",
    "#     fai qualcosa\n",
    "# altra roba\n",
    "\n",
    "\n",
    "# Quando la condizione non è più verificata, il ciclo si interrompe e il programma continua con le istruzioni presenti \n",
    "# al di sotto del ciclo while\n",
    "\n",
    "# la \"condizione\" deve essere o restituire un booleano"
   ]
  },
  {
   "cell_type": "code",
   "execution_count": 17,
   "id": "53de95e0",
   "metadata": {},
   "outputs": [
    {
     "name": "stdout",
     "output_type": "stream",
     "text": [
      "ciao\n"
     ]
    }
   ],
   "source": [
    "while True:\n",
    "    print(\"ciao\")\n",
    "    break"
   ]
  },
  {
   "cell_type": "code",
   "execution_count": 18,
   "id": "cbe85f0f",
   "metadata": {},
   "outputs": [
    {
     "name": "stdout",
     "output_type": "stream",
     "text": [
      "Ora ho trovato Davide\n",
      "Ora ho trovato Umberto\n",
      "Ora ho trovato Riccardo\n"
     ]
    }
   ],
   "source": [
    "lista_new = [\"Davide\", \"Umberto\", \"Riccardo\", \"Carl\"]\n",
    "\n",
    "nome = None\n",
    "i = 0\n",
    "while nome != \"Riccardo\":\n",
    "    nome = lista_new[i]\n",
    "    print(f\"Ora ho trovato {nome}\")\n",
    "    i += 1"
   ]
  },
  {
   "cell_type": "code",
   "execution_count": 22,
   "id": "9b3e5b67",
   "metadata": {},
   "outputs": [
    {
     "name": "stdout",
     "output_type": "stream",
     "text": [
      "Ora ho trovato None\n",
      "Ora ho trovato Umberto\n"
     ]
    }
   ],
   "source": [
    "lista_new = [\"Davide\", \"Umberto\", \"Riccardo\", \"Carl\"]\n",
    "\n",
    "nome = None\n",
    "i = 0\n",
    "while nome != \"Riccardo\":\n",
    "    print(f\"Ora ho trovato {nome}\")\n",
    "    i += 1\n",
    "    nome = lista_new[i]"
   ]
  },
  {
   "cell_type": "code",
   "execution_count": null,
   "id": "728a5b48",
   "metadata": {},
   "outputs": [],
   "source": [
    "# step 0\n",
    "# \"Ora ho trovato None\""
   ]
  },
  {
   "cell_type": "code",
   "execution_count": null,
   "id": "c185d526",
   "metadata": {},
   "outputs": [],
   "source": []
  },
  {
   "cell_type": "code",
   "execution_count": null,
   "id": "c2c105d5",
   "metadata": {},
   "outputs": [],
   "source": []
  },
  {
   "cell_type": "code",
   "execution_count": null,
   "id": "80d018ff",
   "metadata": {},
   "outputs": [],
   "source": []
  },
  {
   "cell_type": "code",
   "execution_count": null,
   "id": "312f7fd8",
   "metadata": {},
   "outputs": [],
   "source": []
  },
  {
   "cell_type": "code",
   "execution_count": null,
   "id": "24b80d80",
   "metadata": {},
   "outputs": [],
   "source": []
  },
  {
   "cell_type": "code",
   "execution_count": null,
   "id": "58d3d889",
   "metadata": {},
   "outputs": [],
   "source": []
  },
  {
   "cell_type": "code",
   "execution_count": null,
   "id": "ca262f9e",
   "metadata": {},
   "outputs": [],
   "source": []
  },
  {
   "cell_type": "code",
   "execution_count": null,
   "id": "e403f395",
   "metadata": {},
   "outputs": [],
   "source": []
  },
  {
   "cell_type": "code",
   "execution_count": null,
   "id": "cbcd289d",
   "metadata": {},
   "outputs": [],
   "source": []
  },
  {
   "cell_type": "code",
   "execution_count": null,
   "id": "9cd4f0ce",
   "metadata": {},
   "outputs": [],
   "source": []
  },
  {
   "cell_type": "code",
   "execution_count": null,
   "id": "a9094609",
   "metadata": {},
   "outputs": [],
   "source": []
  }
 ],
 "metadata": {
  "kernelspec": {
   "display_name": "Python 3 (ipykernel)",
   "language": "python",
   "name": "python3"
  },
  "language_info": {
   "codemirror_mode": {
    "name": "ipython",
    "version": 3
   },
   "file_extension": ".py",
   "mimetype": "text/x-python",
   "name": "python",
   "nbconvert_exporter": "python",
   "pygments_lexer": "ipython3",
   "version": "3.10.9"
  }
 },
 "nbformat": 4,
 "nbformat_minor": 5
}

{
 "cells": [
  {
   "cell_type": "markdown",
   "id": "9cac1344",
   "metadata": {},
   "source": [
    "## Stringhe"
   ]
  },
  {
   "cell_type": "code",
   "execution_count": 1,
   "id": "cadc856f",
   "metadata": {},
   "outputs": [],
   "source": [
    "a = 30 \n",
    "b = 50"
   ]
  },
  {
   "cell_type": "code",
   "execution_count": 2,
   "id": "a6075e2b",
   "metadata": {},
   "outputs": [
    {
     "data": {
      "text/plain": [
       "'Ho 30 mele e 50 pere'"
      ]
     },
     "execution_count": 2,
     "metadata": {},
     "output_type": "execute_result"
    }
   ],
   "source": [
    "\"Ho \" + str(a) + \" mele e \" + str(b) + \" pere\""
   ]
  },
  {
   "cell_type": "code",
   "execution_count": 3,
   "id": "3a54459f",
   "metadata": {},
   "outputs": [
    {
     "data": {
      "text/plain": [
       "'Ho 30 mele e 50 pere'"
      ]
     },
     "execution_count": 3,
     "metadata": {},
     "output_type": "execute_result"
    }
   ],
   "source": [
    "f'Ho {a} mele e {b} pere'"
   ]
  },
  {
   "cell_type": "markdown",
   "id": "06cbb72f",
   "metadata": {},
   "source": [
    "Parametrizzazione di una stringa"
   ]
  },
  {
   "cell_type": "code",
   "execution_count": 4,
   "id": "296e9c78",
   "metadata": {},
   "outputs": [
    {
     "data": {
      "text/plain": [
       "'Ho 80 frutti'"
      ]
     },
     "execution_count": 4,
     "metadata": {},
     "output_type": "execute_result"
    }
   ],
   "source": [
    "f'Ho {a + b} frutti'"
   ]
  },
  {
   "cell_type": "code",
   "execution_count": 5,
   "id": "c060fb43",
   "metadata": {},
   "outputs": [],
   "source": [
    "c = 9.543"
   ]
  },
  {
   "cell_type": "code",
   "execution_count": 6,
   "id": "5a9a4466",
   "metadata": {},
   "outputs": [
    {
     "data": {
      "text/plain": [
       "'Mi sono rimasti 9.543 euro'"
      ]
     },
     "execution_count": 6,
     "metadata": {},
     "output_type": "execute_result"
    }
   ],
   "source": [
    "f'Mi sono rimasti {c} euro'"
   ]
  },
  {
   "cell_type": "code",
   "execution_count": 12,
   "id": "26e58ed5",
   "metadata": {},
   "outputs": [
    {
     "data": {
      "text/plain": [
       "'Mi sono rimasti 9.54'"
      ]
     },
     "execution_count": 12,
     "metadata": {},
     "output_type": "execute_result"
    }
   ],
   "source": [
    "f'Mi sono rimasti {c:.2f}'"
   ]
  },
  {
   "cell_type": "code",
   "execution_count": null,
   "id": "a4c04f76",
   "metadata": {},
   "outputs": [],
   "source": [
    "s.endswith(suffix)     # Check if string ends with suffix\n",
    "s.find(t)              # First occurrence of t in s\n",
    "s.index(t)             # First occurrence of t in s\n",
    "s.isalpha()            # Check if characters are alphabetic\n",
    "s.isdigit()            # Check if characters are numeric\n",
    "s.islower()            # Check if characters are lower-case\n",
    "s.isupper()            # Check if characters are upper-case\n",
    "s.join(slist)          # Join a list of strings using s as delimiter\n",
    "s.lower()              # Convert to lower case\n",
    "s.replace(old,new)     # Replace text\n",
    "s.rfind(t)             # Search for t from end of string\n",
    "s.rindex(t)            # Search for t from end of string\n",
    "s.split([delim])       # Split string into list of substrings\n",
    "s.startswith(prefix)   # Check if string starts with prefix\n",
    "s.strip()              # Strip leading/trailing space\n",
    "s.upper()              # Convert to upper case"
   ]
  },
  {
   "cell_type": "code",
   "execution_count": 15,
   "id": "18f5fd39",
   "metadata": {},
   "outputs": [],
   "source": [
    "s1 = \"REDDITO_LAVORO_DIPENDENTE_2021\""
   ]
  },
  {
   "cell_type": "code",
   "execution_count": 15,
   "id": "1809a496",
   "metadata": {},
   "outputs": [
    {
     "data": {
      "text/plain": [
       "['REDDITO', 'LAVORO', 'DIPENDENTE', '2021']"
      ]
     },
     "execution_count": 15,
     "metadata": {},
     "output_type": "execute_result"
    }
   ],
   "source": [
    "s1.split(\"_\")"
   ]
  },
  {
   "cell_type": "code",
   "execution_count": 18,
   "id": "7a3680f6",
   "metadata": {},
   "outputs": [
    {
     "data": {
      "text/plain": [
       "['reddito', 'lavoro', 'dipendente', '2021']"
      ]
     },
     "execution_count": 18,
     "metadata": {},
     "output_type": "execute_result"
    }
   ],
   "source": [
    "s1.lower().split(\"_\")"
   ]
  },
  {
   "cell_type": "code",
   "execution_count": 20,
   "id": "dfabaaf8",
   "metadata": {
    "scrolled": true
   },
   "outputs": [
    {
     "data": {
      "text/plain": [
       "'2021'"
      ]
     },
     "execution_count": 20,
     "metadata": {},
     "output_type": "execute_result"
    }
   ],
   "source": [
    "s1.split(\"_\")[-1]"
   ]
  },
  {
   "cell_type": "markdown",
   "id": "761e0e42",
   "metadata": {},
   "source": [
    "### TODO Trovare l'anno all'interno della stringa s2 in modo indipendente dalla posizione dell'anno all'interno della stringa"
   ]
  },
  {
   "cell_type": "code",
   "execution_count": 10,
   "id": "e516c59d",
   "metadata": {},
   "outputs": [],
   "source": [
    "s2 = \"REDDITO_LAVORO_2021_DIPENDENTE\""
   ]
  },
  {
   "cell_type": "code",
   "execution_count": 11,
   "id": "cfc6ceb3",
   "metadata": {},
   "outputs": [
    {
     "data": {
      "text/plain": [
       "'DIPENDENTE'"
      ]
     },
     "execution_count": 11,
     "metadata": {},
     "output_type": "execute_result"
    }
   ],
   "source": [
    "s2.split(\"_\")[-1]"
   ]
  },
  {
   "cell_type": "code",
   "execution_count": 14,
   "id": "97799641",
   "metadata": {},
   "outputs": [
    {
     "data": {
      "text/plain": [
       "'2021'"
      ]
     },
     "execution_count": 14,
     "metadata": {},
     "output_type": "execute_result"
    }
   ],
   "source": [
    "s2[s2.find(\"2\"): s2.find(\"2\")+4]"
   ]
  },
  {
   "cell_type": "code",
   "execution_count": 16,
   "id": "3075758e",
   "metadata": {},
   "outputs": [
    {
     "data": {
      "text/plain": [
       "'2021'"
      ]
     },
     "execution_count": 16,
     "metadata": {},
     "output_type": "execute_result"
    }
   ],
   "source": [
    "s1[s1.find(\"2\"): s1.find(\"2\")+4]"
   ]
  },
  {
   "cell_type": "code",
   "execution_count": null,
   "id": "0354da38",
   "metadata": {},
   "outputs": [],
   "source": []
  }
 ],
 "metadata": {
  "kernelspec": {
   "display_name": "Python 3 (ipykernel)",
   "language": "python",
   "name": "python3"
  },
  "language_info": {
   "codemirror_mode": {
    "name": "ipython",
    "version": 3
   },
   "file_extension": ".py",
   "mimetype": "text/x-python",
   "name": "python",
   "nbconvert_exporter": "python",
   "pygments_lexer": "ipython3",
   "version": "3.10.9"
  }
 },
 "nbformat": 4,
 "nbformat_minor": 5
}

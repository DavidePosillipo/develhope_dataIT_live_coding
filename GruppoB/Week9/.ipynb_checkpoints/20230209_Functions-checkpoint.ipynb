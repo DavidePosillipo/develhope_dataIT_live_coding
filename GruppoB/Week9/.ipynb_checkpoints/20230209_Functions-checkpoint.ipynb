{
 "cells": [
  {
   "cell_type": "markdown",
   "id": "93385375",
   "metadata": {},
   "source": [
    "## Advanced Functions"
   ]
  },
  {
   "cell_type": "code",
   "execution_count": 1,
   "id": "9da42250",
   "metadata": {},
   "outputs": [],
   "source": [
    "def f1(par1, par2):\n",
    "    # operazioni che sfruttano i parametri\n",
    "    output = par1+par2\n",
    "    return output "
   ]
  },
  {
   "cell_type": "code",
   "execution_count": 2,
   "id": "2586a812",
   "metadata": {},
   "outputs": [],
   "source": [
    "# Paradigma di programmazione Functional Programming\n",
    "# vs OOP (Object Oriented Programming)"
   ]
  },
  {
   "cell_type": "code",
   "execution_count": 7,
   "id": "975fdaef",
   "metadata": {},
   "outputs": [],
   "source": [
    "def create_function(p1, p2):\n",
    "    \n",
    "    def inner_function():\n",
    "        output = p1+p2\n",
    "        return output\n",
    "        \n",
    "    return inner_function"
   ]
  },
  {
   "cell_type": "code",
   "execution_count": 8,
   "id": "f817a30c",
   "metadata": {},
   "outputs": [
    {
     "data": {
      "text/plain": [
       "<function __main__.create_function.<locals>.inner_function()>"
      ]
     },
     "execution_count": 8,
     "metadata": {},
     "output_type": "execute_result"
    }
   ],
   "source": [
    "create_function(1, 2)"
   ]
  },
  {
   "cell_type": "code",
   "execution_count": 9,
   "id": "5da42242",
   "metadata": {},
   "outputs": [],
   "source": [
    "funzione_interna = create_function(1, 2)"
   ]
  },
  {
   "cell_type": "code",
   "execution_count": 10,
   "id": "89961038",
   "metadata": {},
   "outputs": [
    {
     "data": {
      "text/plain": [
       "3"
      ]
     },
     "execution_count": 10,
     "metadata": {},
     "output_type": "execute_result"
    }
   ],
   "source": [
    "funzione_interna()"
   ]
  },
  {
   "cell_type": "markdown",
   "id": "39ccb36f",
   "metadata": {},
   "source": [
    "### Esercizio per casa"
   ]
  },
  {
   "cell_type": "markdown",
   "id": "64c1fef9",
   "metadata": {},
   "source": [
    "\n",
    "In this exercise, we’re going to create a password-generation function. Actually, we’re going to create a factory for password-generation functions. That is, I might need to generate a large number of passwords, all of which use the same set of charac- ters. (You know how it is. Some applications require a mix of capital letters, lowercase letters, numbers, and symbols; whereas others require that you only use letters; and still others allow both letters and digits.) You’ll thus call the function create_password_generator with a string. That string will return a function, which itself takes an integer argument. Calling this function will return a password of the specified length, using the string from which it was created; "
   ]
  },
  {
   "cell_type": "markdown",
   "id": "7e069233",
   "metadata": {},
   "source": [
    "alpha_password = create_password_generator('abcdef') \n",
    "symbol_password = create_password_generator('!@#$%')\n",
    "print(alpha_password(5)) # efeaa\n",
    "print(alpha_password(10)) # cacdacbada\n",
    "print(symbol_password(5)) # @!%%$\n",
    "print(symbol_password(10))  # @!%%$%$%%#"
   ]
  },
  {
   "cell_type": "code",
   "execution_count": 13,
   "id": "251048e0",
   "metadata": {},
   "outputs": [
    {
     "data": {
      "text/plain": [
       "'c'"
      ]
     },
     "execution_count": 13,
     "metadata": {},
     "output_type": "execute_result"
    }
   ],
   "source": [
    "import random \n",
    "random.choice(\"abcdefg\")"
   ]
  },
  {
   "cell_type": "code",
   "execution_count": null,
   "id": "7b030a99",
   "metadata": {},
   "outputs": [],
   "source": []
  },
  {
   "cell_type": "code",
   "execution_count": null,
   "id": "2fd29054",
   "metadata": {},
   "outputs": [],
   "source": []
  },
  {
   "cell_type": "code",
   "execution_count": null,
   "id": "bde94f2e",
   "metadata": {},
   "outputs": [],
   "source": []
  }
 ],
 "metadata": {
  "kernelspec": {
   "display_name": "Python 3 (ipykernel)",
   "language": "python",
   "name": "python3"
  },
  "language_info": {
   "codemirror_mode": {
    "name": "ipython",
    "version": 3
   },
   "file_extension": ".py",
   "mimetype": "text/x-python",
   "name": "python",
   "nbconvert_exporter": "python",
   "pygments_lexer": "ipython3",
   "version": "3.10.9"
  }
 },
 "nbformat": 4,
 "nbformat_minor": 5
}

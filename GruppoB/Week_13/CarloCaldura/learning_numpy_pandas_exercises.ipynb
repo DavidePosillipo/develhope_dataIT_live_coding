{
 "cells": [
  {
   "cell_type": "markdown",
   "id": "43103ef9",
   "metadata": {},
   "source": [
    "# Learning Numpy"
   ]
  },
  {
   "cell_type": "code",
   "execution_count": 2,
   "id": "f04141eb",
   "metadata": {},
   "outputs": [],
   "source": [
    "import numpy as np "
   ]
  },
  {
   "cell_type": "markdown",
   "id": "eb3a7efd",
   "metadata": {},
   "source": [
    "### Creating Arrays"
   ]
  },
  {
   "cell_type": "markdown",
   "id": "6be7fddb",
   "metadata": {},
   "source": [
    "<strong><ins>All arrays mentioned here are numpy arrays as long as opposite is not mentioned</ins></strong> please solve the problems with this knowledge."
   ]
  },
  {
   "cell_type": "markdown",
   "id": "471f6974",
   "metadata": {},
   "source": [
    "Create an array in size of 4*3 and assing it to arr variable "
   ]
  },
  {
   "cell_type": "code",
   "execution_count": 7,
   "id": "12801da8",
   "metadata": {},
   "outputs": [
    {
     "data": {
      "text/plain": [
       "array([[1.25092937e-311, 2.42092166e-322, 0.00000000e+000],\n",
       "       [0.00000000e+000, 1.33511901e-306, 8.60952352e-072],\n",
       "       [5.94602952e-091, 5.98633925e+174, 1.52516504e-052],\n",
       "       [4.08606941e+179, 6.99196247e+228, 2.22522596e-306]])"
      ]
     },
     "execution_count": 7,
     "metadata": {},
     "output_type": "execute_result"
    }
   ],
   "source": [
    "arr = np.ndarray((4, 3))\n",
    "arr"
   ]
  },
  {
   "cell_type": "markdown",
   "id": "c82af80c",
   "metadata": {},
   "source": [
    "Create an array with elements from 0 to 15 (both inclusive) and assing it to arr2 variable   \n",
    "Then print the shape of the arr2  \n",
    "copy the arr2 to arr2_copy  \n",
    "print arr2, arr2_copy   \n",
    "Change its shape to 4*4 and assign to itself   \n",
    "print arr2, arr2_copy again    "
   ]
  },
  {
   "cell_type": "code",
   "execution_count": 14,
   "id": "dd0fad30",
   "metadata": {},
   "outputs": [],
   "source": [
    "arr2 = np.arange(0, 16)\n",
    "arr2_copy = arr2.view()"
   ]
  },
  {
   "cell_type": "code",
   "execution_count": 15,
   "id": "14e1498d",
   "metadata": {},
   "outputs": [
    {
     "name": "stdout",
     "output_type": "stream",
     "text": [
      "[ 0  1  2  3  4  5  6  7  8  9 10 11 12 13 14 15]\n"
     ]
    }
   ],
   "source": [
    "print(arr2)"
   ]
  },
  {
   "cell_type": "code",
   "execution_count": 16,
   "id": "7ce3c862",
   "metadata": {},
   "outputs": [
    {
     "name": "stdout",
     "output_type": "stream",
     "text": [
      "[ 0  1  2  3  4  5  6  7  8  9 10 11 12 13 14 15]\n"
     ]
    }
   ],
   "source": [
    "print(arr2_copy)"
   ]
  },
  {
   "cell_type": "code",
   "execution_count": 17,
   "id": "f06405d6",
   "metadata": {},
   "outputs": [],
   "source": [
    "arr2 = arr2.reshape(4, 4)"
   ]
  },
  {
   "cell_type": "code",
   "execution_count": 19,
   "id": "b6c7ea2f",
   "metadata": {
    "scrolled": true
   },
   "outputs": [
    {
     "name": "stdout",
     "output_type": "stream",
     "text": [
      "[[ 0  1  2  3]\n",
      " [ 4  5  6  7]\n",
      " [ 8  9 10 11]\n",
      " [12 13 14 15]]\n"
     ]
    }
   ],
   "source": [
    "print(arr2)"
   ]
  },
  {
   "cell_type": "code",
   "execution_count": 20,
   "id": "40172742",
   "metadata": {},
   "outputs": [
    {
     "name": "stdout",
     "output_type": "stream",
     "text": [
      "[ 0  1  2  3  4  5  6  7  8  9 10 11 12 13 14 15]\n"
     ]
    }
   ],
   "source": [
    "print(arr2_copy)"
   ]
  },
  {
   "cell_type": "markdown",
   "id": "5c312718",
   "metadata": {},
   "source": [
    "### Some Functions "
   ]
  },
  {
   "cell_type": "markdown",
   "id": "4a6c4e92",
   "metadata": {},
   "source": [
    "##### How many dimentions there are in arr2 variable? "
   ]
  },
  {
   "cell_type": "code",
   "execution_count": 21,
   "id": "03c9544c",
   "metadata": {},
   "outputs": [
    {
     "data": {
      "text/plain": [
       "2"
      ]
     },
     "execution_count": 21,
     "metadata": {},
     "output_type": "execute_result"
    }
   ],
   "source": [
    "arr2.ndim"
   ]
  },
  {
   "cell_type": "markdown",
   "id": "0d24dc16",
   "metadata": {},
   "source": [
    "##### Describe the number of rows and columns in arr2 variable "
   ]
  },
  {
   "cell_type": "code",
   "execution_count": 22,
   "id": "e4c71e21",
   "metadata": {},
   "outputs": [
    {
     "data": {
      "text/plain": [
       "(4, 4)"
      ]
     },
     "execution_count": 22,
     "metadata": {},
     "output_type": "execute_result"
    }
   ],
   "source": [
    "arr2.shape"
   ]
  },
  {
   "cell_type": "markdown",
   "id": "fb0109ad",
   "metadata": {},
   "source": [
    "##### How many elements there are in arr2 variable?"
   ]
  },
  {
   "cell_type": "code",
   "execution_count": 25,
   "id": "4f12ea1a",
   "metadata": {},
   "outputs": [
    {
     "data": {
      "text/plain": [
       "16"
      ]
     },
     "execution_count": 25,
     "metadata": {},
     "output_type": "execute_result"
    }
   ],
   "source": [
    "arr2.size"
   ]
  },
  {
   "cell_type": "markdown",
   "id": "3fb5ef4e",
   "metadata": {},
   "source": [
    "##### Print the data type of arr2"
   ]
  },
  {
   "cell_type": "code",
   "execution_count": 28,
   "id": "a1e76cbb",
   "metadata": {},
   "outputs": [
    {
     "data": {
      "text/plain": [
       "dtype('int32')"
      ]
     },
     "execution_count": 28,
     "metadata": {},
     "output_type": "execute_result"
    }
   ],
   "source": [
    "arr2.dtype"
   ]
  },
  {
   "cell_type": "markdown",
   "id": "3d6dc446",
   "metadata": {},
   "source": [
    "#### Print the data location in the memory"
   ]
  },
  {
   "cell_type": "code",
   "execution_count": 30,
   "id": "b480c54e",
   "metadata": {},
   "outputs": [
    {
     "data": {
      "text/plain": [
       "<memory at 0x0000024D83BD4110>"
      ]
     },
     "execution_count": 30,
     "metadata": {},
     "output_type": "execute_result"
    }
   ],
   "source": [
    "arr2.data"
   ]
  },
  {
   "cell_type": "markdown",
   "id": "f50930f0",
   "metadata": {},
   "source": [
    "### Some Statistics About the Arrays"
   ]
  },
  {
   "cell_type": "markdown",
   "id": "e2bd3bf5",
   "metadata": {},
   "source": [
    "#### Show 50th percentile of arr2"
   ]
  },
  {
   "cell_type": "code",
   "execution_count": 31,
   "id": "cf2ff1b6",
   "metadata": {},
   "outputs": [
    {
     "data": {
      "text/plain": [
       "7.5"
      ]
     },
     "execution_count": 31,
     "metadata": {},
     "output_type": "execute_result"
    }
   ],
   "source": [
    "np.percentile(arr2, 50)"
   ]
  },
  {
   "cell_type": "markdown",
   "id": "b94b76aa",
   "metadata": {},
   "source": [
    "#### Show mean of arr2 elements"
   ]
  },
  {
   "cell_type": "code",
   "execution_count": 32,
   "id": "26ebc870",
   "metadata": {},
   "outputs": [
    {
     "data": {
      "text/plain": [
       "7.5"
      ]
     },
     "execution_count": 32,
     "metadata": {},
     "output_type": "execute_result"
    }
   ],
   "source": [
    "np.mean(arr2)"
   ]
  },
  {
   "cell_type": "markdown",
   "id": "1ab10d37",
   "metadata": {},
   "source": [
    "#### Show median of arr2 elements"
   ]
  },
  {
   "cell_type": "code",
   "execution_count": 33,
   "id": "973b1ff7",
   "metadata": {},
   "outputs": [
    {
     "data": {
      "text/plain": [
       "7.5"
      ]
     },
     "execution_count": 33,
     "metadata": {},
     "output_type": "execute_result"
    }
   ],
   "source": [
    "np.median(arr2)"
   ]
  },
  {
   "cell_type": "markdown",
   "id": "7040730d",
   "metadata": {},
   "source": [
    "##### Create one dimensional normally distrubuted array with mean 3 standard deviation is 4 and has elements of 100"
   ]
  },
  {
   "cell_type": "code",
   "execution_count": 34,
   "id": "23bb52de",
   "metadata": {},
   "outputs": [
    {
     "ename": "ImportError",
     "evalue": "cannot import name 'np' from 'numpy' (C:\\Users\\Crypto.gunner\\anaconda3\\lib\\site-packages\\numpy\\__init__.py)",
     "output_type": "error",
     "traceback": [
      "\u001b[1;31m---------------------------------------------------------------------------\u001b[0m",
      "\u001b[1;31mImportError\u001b[0m                               Traceback (most recent call last)",
      "\u001b[1;32m~\\AppData\\Local\\Temp\\ipykernel_24640\\1497184455.py\u001b[0m in \u001b[0;36m<module>\u001b[1;34m\u001b[0m\n\u001b[1;32m----> 1\u001b[1;33m \u001b[1;32mfrom\u001b[0m \u001b[0mnumpy\u001b[0m \u001b[1;32mimport\u001b[0m \u001b[0mnp\u001b[0m\u001b[1;33m\u001b[0m\u001b[1;33m\u001b[0m\u001b[0m\n\u001b[0m",
      "\u001b[1;31mImportError\u001b[0m: cannot import name 'np' from 'numpy' (C:\\Users\\Crypto.gunner\\anaconda3\\lib\\site-packages\\numpy\\__init__.py)"
     ]
    }
   ],
   "source": [
    "# from numpy import np"
   ]
  },
  {
   "cell_type": "code",
   "execution_count": 37,
   "id": "5e246a9f",
   "metadata": {},
   "outputs": [
    {
     "data": {
      "text/plain": [
       "(2.5993490810869626, 3.8127692867200307)"
      ]
     },
     "execution_count": 37,
     "metadata": {},
     "output_type": "execute_result"
    }
   ],
   "source": [
    "my_mean = 3\n",
    "my_std = 4\n",
    "s = np.random.normal(loc=my_mean, scale=my_std, size=100)\n",
    "np.mean(s), np.std(s)"
   ]
  },
  {
   "cell_type": "markdown",
   "id": "5320324e",
   "metadata": {},
   "source": [
    "#### Install matplotlib library for ploting purposes and then plot the s \n",
    "- search to find how to do"
   ]
  },
  {
   "cell_type": "code",
   "execution_count": 39,
   "id": "a8ca4a2e",
   "metadata": {},
   "outputs": [
    {
     "data": {
      "image/png": "[encoded data removed]",
      "text/plain": [
       "<Figure size 640x480 with 1 Axes>"
      ]
     },
     "metadata": {},
     "output_type": "display_data"
    }
   ],
   "source": [
    "import matplotlib.pyplot as plt\n",
    "plt.hist(s)\n",
    "plt.title('')\n",
    "plt.show()"
   ]
  },
  {
   "cell_type": "markdown",
   "id": "f0ba30ab",
   "metadata": {},
   "source": [
    "____"
   ]
  },
  {
   "cell_type": "markdown",
   "id": "25f032d0",
   "metadata": {},
   "source": [
    "# Learning Pandas"
   ]
  },
  {
   "cell_type": "markdown",
   "id": "d2a96de4",
   "metadata": {},
   "source": [
    "##### Read the airline safety data assign to df variable and print first 5 rows with pandas function"
   ]
  },
  {
   "cell_type": "code",
   "execution_count": 40,
   "id": "d19327ef",
   "metadata": {},
   "outputs": [],
   "source": [
    "import pandas as pd "
   ]
  },
  {
   "cell_type": "code",
   "execution_count": 41,
   "id": "45471ae7",
   "metadata": {},
   "outputs": [],
   "source": [
    "df = pd.read_csv(r'airline_safety_data.txt')"
   ]
  },
  {
   "cell_type": "code",
   "execution_count": 42,
   "id": "efb56a58",
   "metadata": {},
   "outputs": [
    {
     "data": {
      "text/html": [
       "<div>\n",
       "<style scoped>\n",
       "    .dataframe tbody tr th:only-of-type {\n",
       "        vertical-align: middle;\n",
       "    }\n",
       "\n",
       "    .dataframe tbody tr th {\n",
       "        vertical-align: top;\n",
       "    }\n",
       "\n",
       "    .dataframe thead th {\n",
       "        text-align: right;\n",
       "    }\n",
       "</style>\n",
       "<table border=\"1\" class=\"dataframe\">\n",
       "  <thead>\n",
       "    <tr style=\"text-align: right;\">\n",
       "      <th></th>\n",
       "      <th>airline</th>\n",
       "      <th>avail_seat_km_per_week</th>\n",
       "      <th>incidents_85_99</th>\n",
       "      <th>fatal_accidents_85_99</th>\n",
       "      <th>fatalities_85_99</th>\n",
       "      <th>incidents_00_14</th>\n",
       "      <th>fatal_accidents_00_14</th>\n",
       "      <th>fatalities_00_14</th>\n",
       "    </tr>\n",
       "  </thead>\n",
       "  <tbody>\n",
       "    <tr>\n",
       "      <th>0</th>\n",
       "      <td>Aer Lingus</td>\n",
       "      <td>320906734</td>\n",
       "      <td>2</td>\n",
       "      <td>0</td>\n",
       "      <td>0</td>\n",
       "      <td>0</td>\n",
       "      <td>0</td>\n",
       "      <td>0</td>\n",
       "    </tr>\n",
       "    <tr>\n",
       "      <th>1</th>\n",
       "      <td>Aeroflot*</td>\n",
       "      <td>1197672318</td>\n",
       "      <td>76</td>\n",
       "      <td>14</td>\n",
       "      <td>128</td>\n",
       "      <td>6</td>\n",
       "      <td>1</td>\n",
       "      <td>88</td>\n",
       "    </tr>\n",
       "    <tr>\n",
       "      <th>2</th>\n",
       "      <td>Aerolineas Argentinas</td>\n",
       "      <td>385803648</td>\n",
       "      <td>6</td>\n",
       "      <td>0</td>\n",
       "      <td>0</td>\n",
       "      <td>1</td>\n",
       "      <td>0</td>\n",
       "      <td>0</td>\n",
       "    </tr>\n",
       "    <tr>\n",
       "      <th>3</th>\n",
       "      <td>Aeromexico*</td>\n",
       "      <td>596871813</td>\n",
       "      <td>3</td>\n",
       "      <td>1</td>\n",
       "      <td>64</td>\n",
       "      <td>5</td>\n",
       "      <td>0</td>\n",
       "      <td>0</td>\n",
       "    </tr>\n",
       "    <tr>\n",
       "      <th>4</th>\n",
       "      <td>Air Canada</td>\n",
       "      <td>1865253802</td>\n",
       "      <td>2</td>\n",
       "      <td>0</td>\n",
       "      <td>0</td>\n",
       "      <td>2</td>\n",
       "      <td>0</td>\n",
       "      <td>0</td>\n",
       "    </tr>\n",
       "  </tbody>\n",
       "</table>\n",
       "</div>"
      ],
      "text/plain": [
       "                 airline  avail_seat_km_per_week  incidents_85_99  \\\n",
       "0             Aer Lingus               320906734                2   \n",
       "1              Aeroflot*              1197672318               76   \n",
       "2  Aerolineas Argentinas               385803648                6   \n",
       "3            Aeromexico*               596871813                3   \n",
       "4             Air Canada              1865253802                2   \n",
       "\n",
       "   fatal_accidents_85_99  fatalities_85_99  incidents_00_14  \\\n",
       "0                      0                 0                0   \n",
       "1                     14               128                6   \n",
       "2                      0                 0                1   \n",
       "3                      1                64                5   \n",
       "4                      0                 0                2   \n",
       "\n",
       "   fatal_accidents_00_14  fatalities_00_14  \n",
       "0                      0                 0  \n",
       "1                      1                88  \n",
       "2                      0                 0  \n",
       "3                      0                 0  \n",
       "4                      0                 0  "
      ]
     },
     "execution_count": 42,
     "metadata": {},
     "output_type": "execute_result"
    }
   ],
   "source": [
    "df.head(5)"
   ]
  },
  {
   "cell_type": "markdown",
   "id": "4f9a8367",
   "metadata": {},
   "source": [
    "##### print last 5 rows with pandas function"
   ]
  },
  {
   "cell_type": "code",
   "execution_count": 43,
   "id": "7aad0e59",
   "metadata": {},
   "outputs": [
    {
     "data": {
      "text/html": [
       "<div>\n",
       "<style scoped>\n",
       "    .dataframe tbody tr th:only-of-type {\n",
       "        vertical-align: middle;\n",
       "    }\n",
       "\n",
       "    .dataframe tbody tr th {\n",
       "        vertical-align: top;\n",
       "    }\n",
       "\n",
       "    .dataframe thead th {\n",
       "        text-align: right;\n",
       "    }\n",
       "</style>\n",
       "<table border=\"1\" class=\"dataframe\">\n",
       "  <thead>\n",
       "    <tr style=\"text-align: right;\">\n",
       "      <th></th>\n",
       "      <th>airline</th>\n",
       "      <th>avail_seat_km_per_week</th>\n",
       "      <th>incidents_85_99</th>\n",
       "      <th>fatal_accidents_85_99</th>\n",
       "      <th>fatalities_85_99</th>\n",
       "      <th>incidents_00_14</th>\n",
       "      <th>fatal_accidents_00_14</th>\n",
       "      <th>fatalities_00_14</th>\n",
       "    </tr>\n",
       "  </thead>\n",
       "  <tbody>\n",
       "    <tr>\n",
       "      <th>51</th>\n",
       "      <td>United / Continental*</td>\n",
       "      <td>7139291291</td>\n",
       "      <td>19</td>\n",
       "      <td>8</td>\n",
       "      <td>319</td>\n",
       "      <td>14</td>\n",
       "      <td>2</td>\n",
       "      <td>109</td>\n",
       "    </tr>\n",
       "    <tr>\n",
       "      <th>52</th>\n",
       "      <td>US Airways / America West*</td>\n",
       "      <td>2455687887</td>\n",
       "      <td>16</td>\n",
       "      <td>7</td>\n",
       "      <td>224</td>\n",
       "      <td>11</td>\n",
       "      <td>2</td>\n",
       "      <td>23</td>\n",
       "    </tr>\n",
       "    <tr>\n",
       "      <th>53</th>\n",
       "      <td>Vietnam Airlines</td>\n",
       "      <td>625084918</td>\n",
       "      <td>7</td>\n",
       "      <td>3</td>\n",
       "      <td>171</td>\n",
       "      <td>1</td>\n",
       "      <td>0</td>\n",
       "      <td>0</td>\n",
       "    </tr>\n",
       "    <tr>\n",
       "      <th>54</th>\n",
       "      <td>Virgin Atlantic</td>\n",
       "      <td>1005248585</td>\n",
       "      <td>1</td>\n",
       "      <td>0</td>\n",
       "      <td>0</td>\n",
       "      <td>0</td>\n",
       "      <td>0</td>\n",
       "      <td>0</td>\n",
       "    </tr>\n",
       "    <tr>\n",
       "      <th>55</th>\n",
       "      <td>Xiamen Airlines</td>\n",
       "      <td>430462962</td>\n",
       "      <td>9</td>\n",
       "      <td>1</td>\n",
       "      <td>82</td>\n",
       "      <td>2</td>\n",
       "      <td>0</td>\n",
       "      <td>0</td>\n",
       "    </tr>\n",
       "  </tbody>\n",
       "</table>\n",
       "</div>"
      ],
      "text/plain": [
       "                       airline  avail_seat_km_per_week  incidents_85_99  \\\n",
       "51       United / Continental*              7139291291               19   \n",
       "52  US Airways / America West*              2455687887               16   \n",
       "53            Vietnam Airlines               625084918                7   \n",
       "54             Virgin Atlantic              1005248585                1   \n",
       "55             Xiamen Airlines               430462962                9   \n",
       "\n",
       "    fatal_accidents_85_99  fatalities_85_99  incidents_00_14  \\\n",
       "51                      8               319               14   \n",
       "52                      7               224               11   \n",
       "53                      3               171                1   \n",
       "54                      0                 0                0   \n",
       "55                      1                82                2   \n",
       "\n",
       "    fatal_accidents_00_14  fatalities_00_14  \n",
       "51                      2               109  \n",
       "52                      2                23  \n",
       "53                      0                 0  \n",
       "54                      0                 0  \n",
       "55                      0                 0  "
      ]
     },
     "execution_count": 43,
     "metadata": {},
     "output_type": "execute_result"
    }
   ],
   "source": [
    "df.tail(5)"
   ]
  },
  {
   "cell_type": "markdown",
   "id": "9c9ef7db",
   "metadata": {},
   "source": [
    "##### Show shape of df"
   ]
  },
  {
   "cell_type": "code",
   "execution_count": 44,
   "id": "e9d19c7a",
   "metadata": {},
   "outputs": [
    {
     "data": {
      "text/plain": [
       "(56, 8)"
      ]
     },
     "execution_count": 44,
     "metadata": {},
     "output_type": "execute_result"
    }
   ],
   "source": [
    "df.shape"
   ]
  },
  {
   "cell_type": "markdown",
   "id": "29b6bcdb",
   "metadata": {},
   "source": [
    "##### Show descriptive statistics of df"
   ]
  },
  {
   "cell_type": "code",
   "execution_count": 45,
   "id": "033ecb1b",
   "metadata": {},
   "outputs": [
    {
     "data": {
      "text/html": [
       "<div>\n",
       "<style scoped>\n",
       "    .dataframe tbody tr th:only-of-type {\n",
       "        vertical-align: middle;\n",
       "    }\n",
       "\n",
       "    .dataframe tbody tr th {\n",
       "        vertical-align: top;\n",
       "    }\n",
       "\n",
       "    .dataframe thead th {\n",
       "        text-align: right;\n",
       "    }\n",
       "</style>\n",
       "<table border=\"1\" class=\"dataframe\">\n",
       "  <thead>\n",
       "    <tr style=\"text-align: right;\">\n",
       "      <th></th>\n",
       "      <th>avail_seat_km_per_week</th>\n",
       "      <th>incidents_85_99</th>\n",
       "      <th>fatal_accidents_85_99</th>\n",
       "      <th>fatalities_85_99</th>\n",
       "      <th>incidents_00_14</th>\n",
       "      <th>fatal_accidents_00_14</th>\n",
       "      <th>fatalities_00_14</th>\n",
       "    </tr>\n",
       "  </thead>\n",
       "  <tbody>\n",
       "    <tr>\n",
       "      <th>count</th>\n",
       "      <td>5.600000e+01</td>\n",
       "      <td>56.000000</td>\n",
       "      <td>56.000000</td>\n",
       "      <td>56.000000</td>\n",
       "      <td>56.000000</td>\n",
       "      <td>56.000000</td>\n",
       "      <td>56.000000</td>\n",
       "    </tr>\n",
       "    <tr>\n",
       "      <th>mean</th>\n",
       "      <td>1.384621e+09</td>\n",
       "      <td>7.178571</td>\n",
       "      <td>2.178571</td>\n",
       "      <td>112.410714</td>\n",
       "      <td>4.125000</td>\n",
       "      <td>0.660714</td>\n",
       "      <td>55.517857</td>\n",
       "    </tr>\n",
       "    <tr>\n",
       "      <th>std</th>\n",
       "      <td>1.465317e+09</td>\n",
       "      <td>11.035656</td>\n",
       "      <td>2.861069</td>\n",
       "      <td>146.691114</td>\n",
       "      <td>4.544977</td>\n",
       "      <td>0.858684</td>\n",
       "      <td>111.332751</td>\n",
       "    </tr>\n",
       "    <tr>\n",
       "      <th>min</th>\n",
       "      <td>2.593733e+08</td>\n",
       "      <td>0.000000</td>\n",
       "      <td>0.000000</td>\n",
       "      <td>0.000000</td>\n",
       "      <td>0.000000</td>\n",
       "      <td>0.000000</td>\n",
       "      <td>0.000000</td>\n",
       "    </tr>\n",
       "    <tr>\n",
       "      <th>25%</th>\n",
       "      <td>4.740362e+08</td>\n",
       "      <td>2.000000</td>\n",
       "      <td>0.000000</td>\n",
       "      <td>0.000000</td>\n",
       "      <td>1.000000</td>\n",
       "      <td>0.000000</td>\n",
       "      <td>0.000000</td>\n",
       "    </tr>\n",
       "    <tr>\n",
       "      <th>50%</th>\n",
       "      <td>8.029089e+08</td>\n",
       "      <td>4.000000</td>\n",
       "      <td>1.000000</td>\n",
       "      <td>48.500000</td>\n",
       "      <td>3.000000</td>\n",
       "      <td>0.000000</td>\n",
       "      <td>0.000000</td>\n",
       "    </tr>\n",
       "    <tr>\n",
       "      <th>75%</th>\n",
       "      <td>1.847239e+09</td>\n",
       "      <td>8.000000</td>\n",
       "      <td>3.000000</td>\n",
       "      <td>184.250000</td>\n",
       "      <td>5.250000</td>\n",
       "      <td>1.000000</td>\n",
       "      <td>83.250000</td>\n",
       "    </tr>\n",
       "    <tr>\n",
       "      <th>max</th>\n",
       "      <td>7.139291e+09</td>\n",
       "      <td>76.000000</td>\n",
       "      <td>14.000000</td>\n",
       "      <td>535.000000</td>\n",
       "      <td>24.000000</td>\n",
       "      <td>3.000000</td>\n",
       "      <td>537.000000</td>\n",
       "    </tr>\n",
       "  </tbody>\n",
       "</table>\n",
       "</div>"
      ],
      "text/plain": [
       "       avail_seat_km_per_week  incidents_85_99  fatal_accidents_85_99  \\\n",
       "count            5.600000e+01        56.000000              56.000000   \n",
       "mean             1.384621e+09         7.178571               2.178571   \n",
       "std              1.465317e+09        11.035656               2.861069   \n",
       "min              2.593733e+08         0.000000               0.000000   \n",
       "25%              4.740362e+08         2.000000               0.000000   \n",
       "50%              8.029089e+08         4.000000               1.000000   \n",
       "75%              1.847239e+09         8.000000               3.000000   \n",
       "max              7.139291e+09        76.000000              14.000000   \n",
       "\n",
       "       fatalities_85_99  incidents_00_14  fatal_accidents_00_14  \\\n",
       "count         56.000000        56.000000              56.000000   \n",
       "mean         112.410714         4.125000               0.660714   \n",
       "std          146.691114         4.544977               0.858684   \n",
       "min            0.000000         0.000000               0.000000   \n",
       "25%            0.000000         1.000000               0.000000   \n",
       "50%           48.500000         3.000000               0.000000   \n",
       "75%          184.250000         5.250000               1.000000   \n",
       "max          535.000000        24.000000               3.000000   \n",
       "\n",
       "       fatalities_00_14  \n",
       "count         56.000000  \n",
       "mean          55.517857  \n",
       "std          111.332751  \n",
       "min            0.000000  \n",
       "25%            0.000000  \n",
       "50%            0.000000  \n",
       "75%           83.250000  \n",
       "max          537.000000  "
      ]
     },
     "execution_count": 45,
     "metadata": {},
     "output_type": "execute_result"
    }
   ],
   "source": [
    "df.describe()"
   ]
  },
  {
   "cell_type": "markdown",
   "id": "d803e81a",
   "metadata": {},
   "source": [
    "#### Show df column informations"
   ]
  },
  {
   "cell_type": "code",
   "execution_count": 47,
   "id": "c5718945",
   "metadata": {},
   "outputs": [
    {
     "name": "stdout",
     "output_type": "stream",
     "text": [
      "<class 'pandas.core.frame.DataFrame'>\n",
      "RangeIndex: 56 entries, 0 to 55\n",
      "Data columns (total 8 columns):\n",
      " #   Column                  Non-Null Count  Dtype \n",
      "---  ------                  --------------  ----- \n",
      " 0   airline                 56 non-null     object\n",
      " 1   avail_seat_km_per_week  56 non-null     int64 \n",
      " 2   incidents_85_99         56 non-null     int64 \n",
      " 3   fatal_accidents_85_99   56 non-null     int64 \n",
      " 4   fatalities_85_99        56 non-null     int64 \n",
      " 5   incidents_00_14         56 non-null     int64 \n",
      " 6   fatal_accidents_00_14   56 non-null     int64 \n",
      " 7   fatalities_00_14        56 non-null     int64 \n",
      "dtypes: int64(7), object(1)\n",
      "memory usage: 3.6+ KB\n"
     ]
    }
   ],
   "source": [
    "df.info()"
   ]
  },
  {
   "cell_type": "markdown",
   "id": "59dc697a",
   "metadata": {},
   "source": [
    "#### Select companies and incidents_85_99 with incidents_85_99 is less than 10"
   ]
  },
  {
   "cell_type": "code",
   "execution_count": 48,
   "id": "47d08436",
   "metadata": {
    "scrolled": true
   },
   "outputs": [
    {
     "data": {
      "text/html": [
       "<div>\n",
       "<style scoped>\n",
       "    .dataframe tbody tr th:only-of-type {\n",
       "        vertical-align: middle;\n",
       "    }\n",
       "\n",
       "    .dataframe tbody tr th {\n",
       "        vertical-align: top;\n",
       "    }\n",
       "\n",
       "    .dataframe thead th {\n",
       "        text-align: right;\n",
       "    }\n",
       "</style>\n",
       "<table border=\"1\" class=\"dataframe\">\n",
       "  <thead>\n",
       "    <tr style=\"text-align: right;\">\n",
       "      <th></th>\n",
       "      <th>airline</th>\n",
       "      <th>incidents_85_99</th>\n",
       "    </tr>\n",
       "  </thead>\n",
       "  <tbody>\n",
       "    <tr>\n",
       "      <th>0</th>\n",
       "      <td>Aer Lingus</td>\n",
       "      <td>2</td>\n",
       "    </tr>\n",
       "    <tr>\n",
       "      <th>2</th>\n",
       "      <td>Aerolineas Argentinas</td>\n",
       "      <td>6</td>\n",
       "    </tr>\n",
       "    <tr>\n",
       "      <th>3</th>\n",
       "      <td>Aeromexico*</td>\n",
       "      <td>3</td>\n",
       "    </tr>\n",
       "    <tr>\n",
       "      <th>4</th>\n",
       "      <td>Air Canada</td>\n",
       "      <td>2</td>\n",
       "    </tr>\n",
       "    <tr>\n",
       "      <th>6</th>\n",
       "      <td>Air India*</td>\n",
       "      <td>2</td>\n",
       "    </tr>\n",
       "    <tr>\n",
       "      <th>7</th>\n",
       "      <td>Air New Zealand*</td>\n",
       "      <td>3</td>\n",
       "    </tr>\n",
       "    <tr>\n",
       "      <th>8</th>\n",
       "      <td>Alaska Airlines*</td>\n",
       "      <td>5</td>\n",
       "    </tr>\n",
       "    <tr>\n",
       "      <th>9</th>\n",
       "      <td>Alitalia</td>\n",
       "      <td>7</td>\n",
       "    </tr>\n",
       "    <tr>\n",
       "      <th>10</th>\n",
       "      <td>All Nippon Airways</td>\n",
       "      <td>3</td>\n",
       "    </tr>\n",
       "    <tr>\n",
       "      <th>12</th>\n",
       "      <td>Austrian Airlines</td>\n",
       "      <td>1</td>\n",
       "    </tr>\n",
       "    <tr>\n",
       "      <th>13</th>\n",
       "      <td>Avianca</td>\n",
       "      <td>5</td>\n",
       "    </tr>\n",
       "    <tr>\n",
       "      <th>14</th>\n",
       "      <td>British Airways*</td>\n",
       "      <td>4</td>\n",
       "    </tr>\n",
       "    <tr>\n",
       "      <th>15</th>\n",
       "      <td>Cathay Pacific*</td>\n",
       "      <td>0</td>\n",
       "    </tr>\n",
       "    <tr>\n",
       "      <th>17</th>\n",
       "      <td>Condor</td>\n",
       "      <td>2</td>\n",
       "    </tr>\n",
       "    <tr>\n",
       "      <th>18</th>\n",
       "      <td>COPA</td>\n",
       "      <td>3</td>\n",
       "    </tr>\n",
       "    <tr>\n",
       "      <th>20</th>\n",
       "      <td>Egyptair</td>\n",
       "      <td>8</td>\n",
       "    </tr>\n",
       "    <tr>\n",
       "      <th>21</th>\n",
       "      <td>El Al</td>\n",
       "      <td>1</td>\n",
       "    </tr>\n",
       "    <tr>\n",
       "      <th>23</th>\n",
       "      <td>Finnair</td>\n",
       "      <td>1</td>\n",
       "    </tr>\n",
       "    <tr>\n",
       "      <th>25</th>\n",
       "      <td>Gulf Air</td>\n",
       "      <td>1</td>\n",
       "    </tr>\n",
       "    <tr>\n",
       "      <th>26</th>\n",
       "      <td>Hawaiian Airlines</td>\n",
       "      <td>0</td>\n",
       "    </tr>\n",
       "    <tr>\n",
       "      <th>27</th>\n",
       "      <td>Iberia</td>\n",
       "      <td>4</td>\n",
       "    </tr>\n",
       "    <tr>\n",
       "      <th>28</th>\n",
       "      <td>Japan Airlines</td>\n",
       "      <td>3</td>\n",
       "    </tr>\n",
       "    <tr>\n",
       "      <th>29</th>\n",
       "      <td>Kenya Airways</td>\n",
       "      <td>2</td>\n",
       "    </tr>\n",
       "    <tr>\n",
       "      <th>30</th>\n",
       "      <td>KLM*</td>\n",
       "      <td>7</td>\n",
       "    </tr>\n",
       "    <tr>\n",
       "      <th>32</th>\n",
       "      <td>LAN Airlines</td>\n",
       "      <td>3</td>\n",
       "    </tr>\n",
       "    <tr>\n",
       "      <th>33</th>\n",
       "      <td>Lufthansa*</td>\n",
       "      <td>6</td>\n",
       "    </tr>\n",
       "    <tr>\n",
       "      <th>34</th>\n",
       "      <td>Malaysia Airlines</td>\n",
       "      <td>3</td>\n",
       "    </tr>\n",
       "    <tr>\n",
       "      <th>35</th>\n",
       "      <td>Pakistan International</td>\n",
       "      <td>8</td>\n",
       "    </tr>\n",
       "    <tr>\n",
       "      <th>36</th>\n",
       "      <td>Philippine Airlines</td>\n",
       "      <td>7</td>\n",
       "    </tr>\n",
       "    <tr>\n",
       "      <th>37</th>\n",
       "      <td>Qantas*</td>\n",
       "      <td>1</td>\n",
       "    </tr>\n",
       "    <tr>\n",
       "      <th>38</th>\n",
       "      <td>Royal Air Maroc</td>\n",
       "      <td>5</td>\n",
       "    </tr>\n",
       "    <tr>\n",
       "      <th>39</th>\n",
       "      <td>SAS*</td>\n",
       "      <td>5</td>\n",
       "    </tr>\n",
       "    <tr>\n",
       "      <th>40</th>\n",
       "      <td>Saudi Arabian</td>\n",
       "      <td>7</td>\n",
       "    </tr>\n",
       "    <tr>\n",
       "      <th>41</th>\n",
       "      <td>Singapore Airlines</td>\n",
       "      <td>2</td>\n",
       "    </tr>\n",
       "    <tr>\n",
       "      <th>42</th>\n",
       "      <td>South African</td>\n",
       "      <td>2</td>\n",
       "    </tr>\n",
       "    <tr>\n",
       "      <th>43</th>\n",
       "      <td>Southwest Airlines</td>\n",
       "      <td>1</td>\n",
       "    </tr>\n",
       "    <tr>\n",
       "      <th>44</th>\n",
       "      <td>Sri Lankan / AirLanka</td>\n",
       "      <td>2</td>\n",
       "    </tr>\n",
       "    <tr>\n",
       "      <th>45</th>\n",
       "      <td>SWISS*</td>\n",
       "      <td>2</td>\n",
       "    </tr>\n",
       "    <tr>\n",
       "      <th>46</th>\n",
       "      <td>TACA</td>\n",
       "      <td>3</td>\n",
       "    </tr>\n",
       "    <tr>\n",
       "      <th>47</th>\n",
       "      <td>TAM</td>\n",
       "      <td>8</td>\n",
       "    </tr>\n",
       "    <tr>\n",
       "      <th>48</th>\n",
       "      <td>TAP - Air Portugal</td>\n",
       "      <td>0</td>\n",
       "    </tr>\n",
       "    <tr>\n",
       "      <th>49</th>\n",
       "      <td>Thai Airways</td>\n",
       "      <td>8</td>\n",
       "    </tr>\n",
       "    <tr>\n",
       "      <th>50</th>\n",
       "      <td>Turkish Airlines</td>\n",
       "      <td>8</td>\n",
       "    </tr>\n",
       "    <tr>\n",
       "      <th>53</th>\n",
       "      <td>Vietnam Airlines</td>\n",
       "      <td>7</td>\n",
       "    </tr>\n",
       "    <tr>\n",
       "      <th>54</th>\n",
       "      <td>Virgin Atlantic</td>\n",
       "      <td>1</td>\n",
       "    </tr>\n",
       "    <tr>\n",
       "      <th>55</th>\n",
       "      <td>Xiamen Airlines</td>\n",
       "      <td>9</td>\n",
       "    </tr>\n",
       "  </tbody>\n",
       "</table>\n",
       "</div>"
      ],
      "text/plain": [
       "                   airline  incidents_85_99\n",
       "0               Aer Lingus                2\n",
       "2    Aerolineas Argentinas                6\n",
       "3              Aeromexico*                3\n",
       "4               Air Canada                2\n",
       "6               Air India*                2\n",
       "7         Air New Zealand*                3\n",
       "8         Alaska Airlines*                5\n",
       "9                 Alitalia                7\n",
       "10      All Nippon Airways                3\n",
       "12       Austrian Airlines                1\n",
       "13                 Avianca                5\n",
       "14        British Airways*                4\n",
       "15         Cathay Pacific*                0\n",
       "17                  Condor                2\n",
       "18                    COPA                3\n",
       "20                Egyptair                8\n",
       "21                   El Al                1\n",
       "23                 Finnair                1\n",
       "25                Gulf Air                1\n",
       "26       Hawaiian Airlines                0\n",
       "27                  Iberia                4\n",
       "28          Japan Airlines                3\n",
       "29           Kenya Airways                2\n",
       "30                    KLM*                7\n",
       "32            LAN Airlines                3\n",
       "33              Lufthansa*                6\n",
       "34       Malaysia Airlines                3\n",
       "35  Pakistan International                8\n",
       "36     Philippine Airlines                7\n",
       "37                 Qantas*                1\n",
       "38         Royal Air Maroc                5\n",
       "39                    SAS*                5\n",
       "40           Saudi Arabian                7\n",
       "41      Singapore Airlines                2\n",
       "42           South African                2\n",
       "43      Southwest Airlines                1\n",
       "44   Sri Lankan / AirLanka                2\n",
       "45                  SWISS*                2\n",
       "46                    TACA                3\n",
       "47                     TAM                8\n",
       "48      TAP - Air Portugal                0\n",
       "49            Thai Airways                8\n",
       "50        Turkish Airlines                8\n",
       "53        Vietnam Airlines                7\n",
       "54         Virgin Atlantic                1\n",
       "55         Xiamen Airlines                9"
      ]
     },
     "execution_count": 48,
     "metadata": {},
     "output_type": "execute_result"
    }
   ],
   "source": [
    "df.loc[df.incidents_85_99<10, ['airline', 'incidents_85_99']]"
   ]
  },
  {
   "cell_type": "markdown",
   "id": "e1a4f653",
   "metadata": {},
   "source": [
    "#### Group companies by first letter(lower) and take the mean incidents_85_99 and make it a dataframe again "
   ]
  },
  {
   "cell_type": "code",
   "execution_count": 56,
   "id": "f05c9d19",
   "metadata": {},
   "outputs": [],
   "source": [
    "new_df = df.groupby('airline')['incidents_85_99'].mean().reset_index()\n",
    "new_df = pd.DataFrame(new_df)"
   ]
  },
  {
   "cell_type": "code",
   "execution_count": 58,
   "id": "600262c1",
   "metadata": {
    "scrolled": true
   },
   "outputs": [],
   "source": [
    "new_df['airline'] = new_df['airline'].apply(lambda x : x[0].lower())"
   ]
  },
  {
   "cell_type": "code",
   "execution_count": 59,
   "id": "07318daf",
   "metadata": {},
   "outputs": [
    {
     "data": {
      "text/html": [
       "<div>\n",
       "<style scoped>\n",
       "    .dataframe tbody tr th:only-of-type {\n",
       "        vertical-align: middle;\n",
       "    }\n",
       "\n",
       "    .dataframe tbody tr th {\n",
       "        vertical-align: top;\n",
       "    }\n",
       "\n",
       "    .dataframe thead th {\n",
       "        text-align: right;\n",
       "    }\n",
       "</style>\n",
       "<table border=\"1\" class=\"dataframe\">\n",
       "  <thead>\n",
       "    <tr style=\"text-align: right;\">\n",
       "      <th></th>\n",
       "      <th>airline</th>\n",
       "      <th>incidents_85_99</th>\n",
       "    </tr>\n",
       "  </thead>\n",
       "  <tbody>\n",
       "    <tr>\n",
       "      <th>0</th>\n",
       "      <td>a</td>\n",
       "      <td>2.0</td>\n",
       "    </tr>\n",
       "    <tr>\n",
       "      <th>1</th>\n",
       "      <td>a</td>\n",
       "      <td>76.0</td>\n",
       "    </tr>\n",
       "    <tr>\n",
       "      <th>2</th>\n",
       "      <td>a</td>\n",
       "      <td>6.0</td>\n",
       "    </tr>\n",
       "    <tr>\n",
       "      <th>3</th>\n",
       "      <td>a</td>\n",
       "      <td>3.0</td>\n",
       "    </tr>\n",
       "    <tr>\n",
       "      <th>4</th>\n",
       "      <td>a</td>\n",
       "      <td>2.0</td>\n",
       "    </tr>\n",
       "    <tr>\n",
       "      <th>5</th>\n",
       "      <td>a</td>\n",
       "      <td>14.0</td>\n",
       "    </tr>\n",
       "    <tr>\n",
       "      <th>6</th>\n",
       "      <td>a</td>\n",
       "      <td>2.0</td>\n",
       "    </tr>\n",
       "    <tr>\n",
       "      <th>7</th>\n",
       "      <td>a</td>\n",
       "      <td>3.0</td>\n",
       "    </tr>\n",
       "    <tr>\n",
       "      <th>8</th>\n",
       "      <td>a</td>\n",
       "      <td>5.0</td>\n",
       "    </tr>\n",
       "    <tr>\n",
       "      <th>9</th>\n",
       "      <td>a</td>\n",
       "      <td>7.0</td>\n",
       "    </tr>\n",
       "    <tr>\n",
       "      <th>10</th>\n",
       "      <td>a</td>\n",
       "      <td>3.0</td>\n",
       "    </tr>\n",
       "    <tr>\n",
       "      <th>11</th>\n",
       "      <td>a</td>\n",
       "      <td>21.0</td>\n",
       "    </tr>\n",
       "    <tr>\n",
       "      <th>12</th>\n",
       "      <td>a</td>\n",
       "      <td>1.0</td>\n",
       "    </tr>\n",
       "    <tr>\n",
       "      <th>13</th>\n",
       "      <td>a</td>\n",
       "      <td>5.0</td>\n",
       "    </tr>\n",
       "    <tr>\n",
       "      <th>14</th>\n",
       "      <td>b</td>\n",
       "      <td>4.0</td>\n",
       "    </tr>\n",
       "    <tr>\n",
       "      <th>15</th>\n",
       "      <td>c</td>\n",
       "      <td>3.0</td>\n",
       "    </tr>\n",
       "    <tr>\n",
       "      <th>16</th>\n",
       "      <td>c</td>\n",
       "      <td>0.0</td>\n",
       "    </tr>\n",
       "    <tr>\n",
       "      <th>17</th>\n",
       "      <td>c</td>\n",
       "      <td>12.0</td>\n",
       "    </tr>\n",
       "    <tr>\n",
       "      <th>18</th>\n",
       "      <td>c</td>\n",
       "      <td>2.0</td>\n",
       "    </tr>\n",
       "    <tr>\n",
       "      <th>19</th>\n",
       "      <td>d</td>\n",
       "      <td>24.0</td>\n",
       "    </tr>\n",
       "    <tr>\n",
       "      <th>20</th>\n",
       "      <td>e</td>\n",
       "      <td>8.0</td>\n",
       "    </tr>\n",
       "    <tr>\n",
       "      <th>21</th>\n",
       "      <td>e</td>\n",
       "      <td>1.0</td>\n",
       "    </tr>\n",
       "    <tr>\n",
       "      <th>22</th>\n",
       "      <td>e</td>\n",
       "      <td>25.0</td>\n",
       "    </tr>\n",
       "    <tr>\n",
       "      <th>23</th>\n",
       "      <td>f</td>\n",
       "      <td>1.0</td>\n",
       "    </tr>\n",
       "    <tr>\n",
       "      <th>24</th>\n",
       "      <td>g</td>\n",
       "      <td>10.0</td>\n",
       "    </tr>\n",
       "    <tr>\n",
       "      <th>25</th>\n",
       "      <td>g</td>\n",
       "      <td>1.0</td>\n",
       "    </tr>\n",
       "    <tr>\n",
       "      <th>26</th>\n",
       "      <td>h</td>\n",
       "      <td>0.0</td>\n",
       "    </tr>\n",
       "    <tr>\n",
       "      <th>27</th>\n",
       "      <td>i</td>\n",
       "      <td>4.0</td>\n",
       "    </tr>\n",
       "    <tr>\n",
       "      <th>28</th>\n",
       "      <td>j</td>\n",
       "      <td>3.0</td>\n",
       "    </tr>\n",
       "    <tr>\n",
       "      <th>29</th>\n",
       "      <td>k</td>\n",
       "      <td>7.0</td>\n",
       "    </tr>\n",
       "    <tr>\n",
       "      <th>30</th>\n",
       "      <td>k</td>\n",
       "      <td>2.0</td>\n",
       "    </tr>\n",
       "    <tr>\n",
       "      <th>31</th>\n",
       "      <td>k</td>\n",
       "      <td>12.0</td>\n",
       "    </tr>\n",
       "    <tr>\n",
       "      <th>32</th>\n",
       "      <td>l</td>\n",
       "      <td>3.0</td>\n",
       "    </tr>\n",
       "    <tr>\n",
       "      <th>33</th>\n",
       "      <td>l</td>\n",
       "      <td>6.0</td>\n",
       "    </tr>\n",
       "    <tr>\n",
       "      <th>34</th>\n",
       "      <td>m</td>\n",
       "      <td>3.0</td>\n",
       "    </tr>\n",
       "    <tr>\n",
       "      <th>35</th>\n",
       "      <td>p</td>\n",
       "      <td>8.0</td>\n",
       "    </tr>\n",
       "    <tr>\n",
       "      <th>36</th>\n",
       "      <td>p</td>\n",
       "      <td>7.0</td>\n",
       "    </tr>\n",
       "    <tr>\n",
       "      <th>37</th>\n",
       "      <td>q</td>\n",
       "      <td>1.0</td>\n",
       "    </tr>\n",
       "    <tr>\n",
       "      <th>38</th>\n",
       "      <td>r</td>\n",
       "      <td>5.0</td>\n",
       "    </tr>\n",
       "    <tr>\n",
       "      <th>39</th>\n",
       "      <td>s</td>\n",
       "      <td>5.0</td>\n",
       "    </tr>\n",
       "    <tr>\n",
       "      <th>40</th>\n",
       "      <td>s</td>\n",
       "      <td>2.0</td>\n",
       "    </tr>\n",
       "    <tr>\n",
       "      <th>41</th>\n",
       "      <td>s</td>\n",
       "      <td>7.0</td>\n",
       "    </tr>\n",
       "    <tr>\n",
       "      <th>42</th>\n",
       "      <td>s</td>\n",
       "      <td>2.0</td>\n",
       "    </tr>\n",
       "    <tr>\n",
       "      <th>43</th>\n",
       "      <td>s</td>\n",
       "      <td>2.0</td>\n",
       "    </tr>\n",
       "    <tr>\n",
       "      <th>44</th>\n",
       "      <td>s</td>\n",
       "      <td>1.0</td>\n",
       "    </tr>\n",
       "    <tr>\n",
       "      <th>45</th>\n",
       "      <td>s</td>\n",
       "      <td>2.0</td>\n",
       "    </tr>\n",
       "    <tr>\n",
       "      <th>46</th>\n",
       "      <td>t</td>\n",
       "      <td>3.0</td>\n",
       "    </tr>\n",
       "    <tr>\n",
       "      <th>47</th>\n",
       "      <td>t</td>\n",
       "      <td>8.0</td>\n",
       "    </tr>\n",
       "    <tr>\n",
       "      <th>48</th>\n",
       "      <td>t</td>\n",
       "      <td>0.0</td>\n",
       "    </tr>\n",
       "    <tr>\n",
       "      <th>49</th>\n",
       "      <td>t</td>\n",
       "      <td>8.0</td>\n",
       "    </tr>\n",
       "    <tr>\n",
       "      <th>50</th>\n",
       "      <td>t</td>\n",
       "      <td>8.0</td>\n",
       "    </tr>\n",
       "    <tr>\n",
       "      <th>51</th>\n",
       "      <td>u</td>\n",
       "      <td>16.0</td>\n",
       "    </tr>\n",
       "    <tr>\n",
       "      <th>52</th>\n",
       "      <td>u</td>\n",
       "      <td>19.0</td>\n",
       "    </tr>\n",
       "    <tr>\n",
       "      <th>53</th>\n",
       "      <td>v</td>\n",
       "      <td>7.0</td>\n",
       "    </tr>\n",
       "    <tr>\n",
       "      <th>54</th>\n",
       "      <td>v</td>\n",
       "      <td>1.0</td>\n",
       "    </tr>\n",
       "    <tr>\n",
       "      <th>55</th>\n",
       "      <td>x</td>\n",
       "      <td>9.0</td>\n",
       "    </tr>\n",
       "  </tbody>\n",
       "</table>\n",
       "</div>"
      ],
      "text/plain": [
       "   airline  incidents_85_99\n",
       "0        a              2.0\n",
       "1        a             76.0\n",
       "2        a              6.0\n",
       "3        a              3.0\n",
       "4        a              2.0\n",
       "5        a             14.0\n",
       "6        a              2.0\n",
       "7        a              3.0\n",
       "8        a              5.0\n",
       "9        a              7.0\n",
       "10       a              3.0\n",
       "11       a             21.0\n",
       "12       a              1.0\n",
       "13       a              5.0\n",
       "14       b              4.0\n",
       "15       c              3.0\n",
       "16       c              0.0\n",
       "17       c             12.0\n",
       "18       c              2.0\n",
       "19       d             24.0\n",
       "20       e              8.0\n",
       "21       e              1.0\n",
       "22       e             25.0\n",
       "23       f              1.0\n",
       "24       g             10.0\n",
       "25       g              1.0\n",
       "26       h              0.0\n",
       "27       i              4.0\n",
       "28       j              3.0\n",
       "29       k              7.0\n",
       "30       k              2.0\n",
       "31       k             12.0\n",
       "32       l              3.0\n",
       "33       l              6.0\n",
       "34       m              3.0\n",
       "35       p              8.0\n",
       "36       p              7.0\n",
       "37       q              1.0\n",
       "38       r              5.0\n",
       "39       s              5.0\n",
       "40       s              2.0\n",
       "41       s              7.0\n",
       "42       s              2.0\n",
       "43       s              2.0\n",
       "44       s              1.0\n",
       "45       s              2.0\n",
       "46       t              3.0\n",
       "47       t              8.0\n",
       "48       t              0.0\n",
       "49       t              8.0\n",
       "50       t              8.0\n",
       "51       u             16.0\n",
       "52       u             19.0\n",
       "53       v              7.0\n",
       "54       v              1.0\n",
       "55       x              9.0"
      ]
     },
     "execution_count": 59,
     "metadata": {},
     "output_type": "execute_result"
    }
   ],
   "source": [
    "new_df"
   ]
  }
 ],
 "metadata": {
  "kernelspec": {
   "display_name": "Python 3 (ipykernel)",
   "language": "python",
   "name": "python3"
  },
  "language_info": {
   "codemirror_mode": {
    "name": "ipython",
    "version": 3
   },
   "file_extension": ".py",
   "mimetype": "text/x-python",
   "name": "python",
   "nbconvert_exporter": "python",
   "pygments_lexer": "ipython3",
   "version": "3.9.13"
  }
 },
 "nbformat": 4,
 "nbformat_minor": 5
}

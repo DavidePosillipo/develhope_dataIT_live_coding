{
 "cells": [
  {
   "cell_type": "markdown",
   "id": "d4373b24",
   "metadata": {},
   "source": [
    "## Stringhe"
   ]
  },
  {
   "cell_type": "code",
   "execution_count": 1,
   "id": "e4d0b9ab",
   "metadata": {},
   "outputs": [],
   "source": [
    "a = 30\n",
    "b = 50"
   ]
  },
  {
   "cell_type": "code",
   "execution_count": 2,
   "id": "0b549069",
   "metadata": {},
   "outputs": [],
   "source": [
    "s = \"Oggi ho mangiato \" + str(a) + \" panini e \" + str(b) + \" pizze\""
   ]
  },
  {
   "cell_type": "code",
   "execution_count": 4,
   "id": "556c7d17",
   "metadata": {},
   "outputs": [
    {
     "data": {
      "text/plain": [
       "'Oggi ho mangiato 30 panini e 50 pizze'"
      ]
     },
     "execution_count": 4,
     "metadata": {},
     "output_type": "execute_result"
    }
   ],
   "source": [
    "s"
   ]
  },
  {
   "cell_type": "markdown",
   "id": "a6085e9e",
   "metadata": {},
   "source": [
    "Possiamo parametrizzare più semplicemente le stringhe usando il costrutto f-string introdotto da python 3.5 in poi."
   ]
  },
  {
   "cell_type": "code",
   "execution_count": 9,
   "id": "30d9049d",
   "metadata": {},
   "outputs": [],
   "source": [
    "s = f'Oggi ho mangiato {a} panini e {b} pizze'"
   ]
  },
  {
   "cell_type": "code",
   "execution_count": 10,
   "id": "86edf2ed",
   "metadata": {},
   "outputs": [
    {
     "data": {
      "text/plain": [
       "'Oggi ho mangiato 30 panini e 50 pizze'"
      ]
     },
     "execution_count": 10,
     "metadata": {},
     "output_type": "execute_result"
    }
   ],
   "source": [
    "s"
   ]
  },
  {
   "cell_type": "code",
   "execution_count": 11,
   "id": "4ffb474e",
   "metadata": {},
   "outputs": [],
   "source": [
    "s2 = f'Oggi ho mangiato {a + b} cose'"
   ]
  },
  {
   "cell_type": "code",
   "execution_count": 12,
   "id": "12aaebef",
   "metadata": {},
   "outputs": [
    {
     "data": {
      "text/plain": [
       "'Oggi ho mangiato 80 cose'"
      ]
     },
     "execution_count": 12,
     "metadata": {},
     "output_type": "execute_result"
    }
   ],
   "source": [
    "s2"
   ]
  },
  {
   "cell_type": "code",
   "execution_count": 13,
   "id": "6850d369",
   "metadata": {},
   "outputs": [],
   "source": [
    "soldi = 30.156"
   ]
  },
  {
   "cell_type": "code",
   "execution_count": 14,
   "id": "ecb854e0",
   "metadata": {},
   "outputs": [
    {
     "data": {
      "text/plain": [
       "'Mi rimangono 30.156 euro'"
      ]
     },
     "execution_count": 14,
     "metadata": {},
     "output_type": "execute_result"
    }
   ],
   "source": [
    "s3 = f'Mi rimangono {soldi} euro'\n",
    "s3"
   ]
  },
  {
   "cell_type": "code",
   "execution_count": 20,
   "id": "673cca0a",
   "metadata": {},
   "outputs": [
    {
     "data": {
      "text/plain": [
       "'Mi rimangono 30.16 euro'"
      ]
     },
     "execution_count": 20,
     "metadata": {},
     "output_type": "execute_result"
    }
   ],
   "source": [
    "s4 = f'Mi rimangono {soldi:.2f} euro'\n",
    "s4"
   ]
  },
  {
   "cell_type": "code",
   "execution_count": null,
   "id": "e4e5287e",
   "metadata": {},
   "outputs": [],
   "source": [
    "s.endswith(suffix)     # Check if string ends with suffix\n",
    "s.find(t)              # First occurrence of t in s\n",
    "s.index(t)             # First occurrence of t in s\n",
    "s.isalpha()            # Check if characters are alphabetic\n",
    "s.isdigit()            # Check if characters are numeric\n",
    "s.islower()            # Check if characters are lower-case\n",
    "s.isupper()            # Check if characters are upper-case\n",
    "s.join(slist)          # Join a list of strings using s as delimiter\n",
    "s.lower()              # Convert to lower case\n",
    "s.replace(old,new)     # Replace text\n",
    "s.rfind(t)             # Search for t from end of string\n",
    "s.rindex(t)            # Search for t from end of string\n",
    "s.split([delim])       # Split string into list of substrings\n",
    "s.startswith(prefix)   # Check if string starts with prefix\n",
    "s.strip()              # Strip leading/trailing space\n",
    "s.upper()              # Convert to upper case"
   ]
  },
  {
   "cell_type": "markdown",
   "id": "827582ad",
   "metadata": {},
   "source": [
    "Estrarre l'anno dalla seguente variabile:"
   ]
  },
  {
   "cell_type": "code",
   "execution_count": 27,
   "id": "3f34e39e",
   "metadata": {},
   "outputs": [],
   "source": [
    "s5 = \"REDDITO_DIPENDENTE_ANNO_2021\""
   ]
  },
  {
   "cell_type": "code",
   "execution_count": 28,
   "id": "f4165491",
   "metadata": {},
   "outputs": [
    {
     "data": {
      "text/plain": [
       "'2021'"
      ]
     },
     "execution_count": 28,
     "metadata": {},
     "output_type": "execute_result"
    }
   ],
   "source": [
    "s5.split(\"_\")[3]"
   ]
  },
  {
   "cell_type": "code",
   "execution_count": 37,
   "id": "70714cc5",
   "metadata": {},
   "outputs": [],
   "source": [
    "s6 = \"REDDITO_2021_DIPENDENTE_DELL_ANNO\""
   ]
  },
  {
   "cell_type": "code",
   "execution_count": 38,
   "id": "193959f2",
   "metadata": {
    "scrolled": true
   },
   "outputs": [
    {
     "data": {
      "text/plain": [
       "'ANNO'"
      ]
     },
     "execution_count": 38,
     "metadata": {},
     "output_type": "execute_result"
    }
   ],
   "source": [
    "s6.split(\"_\")[-1]"
   ]
  },
  {
   "cell_type": "code",
   "execution_count": 45,
   "id": "a0f683cf",
   "metadata": {},
   "outputs": [
    {
     "data": {
      "text/plain": [
       "'2021'"
      ]
     },
     "execution_count": 45,
     "metadata": {},
     "output_type": "execute_result"
    }
   ],
   "source": [
    "s6[s6.find(\"2\"): s6.find(\"2\")+4]"
   ]
  },
  {
   "cell_type": "code",
   "execution_count": 33,
   "id": "87ff6e77",
   "metadata": {},
   "outputs": [
    {
     "data": {
      "text/plain": [
       "'2021'"
      ]
     },
     "execution_count": 33,
     "metadata": {},
     "output_type": "execute_result"
    }
   ],
   "source": [
    "s5[s5.find(\"2021\"): s5.find(\"2021\")+4]"
   ]
  },
  {
   "cell_type": "code",
   "execution_count": null,
   "id": "cbc38dea",
   "metadata": {},
   "outputs": [],
   "source": []
  },
  {
   "cell_type": "markdown",
   "id": "21526b56",
   "metadata": {},
   "source": [
    "#### Completare a casa\n",
    "Estrarre l'anno dalla precedente variabile in un modo che non dipenda dalla posizione dell'anno all'interno della stringa."
   ]
  },
  {
   "cell_type": "markdown",
   "id": "766b439a",
   "metadata": {},
   "source": [
    "## Liste"
   ]
  },
  {
   "cell_type": "code",
   "execution_count": 36,
   "id": "c6372d8a",
   "metadata": {},
   "outputs": [],
   "source": [
    "l1 = [1, 2, 3]"
   ]
  },
  {
   "cell_type": "code",
   "execution_count": 37,
   "id": "71e0f14f",
   "metadata": {},
   "outputs": [],
   "source": [
    "l2 = [1, \"ciao\", 3]"
   ]
  },
  {
   "cell_type": "code",
   "execution_count": 38,
   "id": "093a6dc0",
   "metadata": {},
   "outputs": [
    {
     "data": {
      "text/plain": [
       "list"
      ]
     },
     "execution_count": 38,
     "metadata": {},
     "output_type": "execute_result"
    }
   ],
   "source": [
    "type(l1)"
   ]
  },
  {
   "cell_type": "code",
   "execution_count": 39,
   "id": "61a25308",
   "metadata": {},
   "outputs": [
    {
     "data": {
      "text/plain": [
       "list"
      ]
     },
     "execution_count": 39,
     "metadata": {},
     "output_type": "execute_result"
    }
   ],
   "source": [
    "type(l2)"
   ]
  },
  {
   "cell_type": "code",
   "execution_count": 40,
   "id": "88943f8e",
   "metadata": {},
   "outputs": [
    {
     "data": {
      "text/plain": [
       "[1, 2, 3, 1, 'ciao', 3]"
      ]
     },
     "execution_count": 40,
     "metadata": {},
     "output_type": "execute_result"
    }
   ],
   "source": [
    "l1 + l2 #concatenazione"
   ]
  },
  {
   "cell_type": "markdown",
   "id": "242f0f39",
   "metadata": {},
   "source": [
    "Voglio sommare due liste di interi della stessa lunghezza, ma voglio la somma elemento per elemento"
   ]
  },
  {
   "cell_type": "code",
   "execution_count": 41,
   "id": "05a1e388",
   "metadata": {},
   "outputs": [],
   "source": [
    "l3 = [10, 20, 30, 40]\n",
    "l4 = [1, 2, 3, 4]"
   ]
  },
  {
   "cell_type": "code",
   "execution_count": 42,
   "id": "db5dc216",
   "metadata": {},
   "outputs": [],
   "source": [
    "# l3 + l4 -> [11, 22, 33, 44]"
   ]
  },
  {
   "cell_type": "code",
   "execution_count": 43,
   "id": "8ddd8807",
   "metadata": {},
   "outputs": [
    {
     "data": {
      "text/plain": [
       "[10, 20, 30, 40, 1, 2, 3, 4]"
      ]
     },
     "execution_count": 43,
     "metadata": {},
     "output_type": "execute_result"
    }
   ],
   "source": [
    "l3 + l4"
   ]
  },
  {
   "cell_type": "code",
   "execution_count": 52,
   "id": "da503a23",
   "metadata": {},
   "outputs": [
    {
     "name": "stdout",
     "output_type": "stream",
     "text": [
      "11\n",
      "22\n",
      "33\n",
      "44\n"
     ]
    }
   ],
   "source": [
    "for i in range(4):\n",
    "    print(l3[i] + l4[i])"
   ]
  },
  {
   "cell_type": "code",
   "execution_count": null,
   "id": "ac777673",
   "metadata": {},
   "outputs": [],
   "source": [
    "l3[0] + l4[0]\n",
    "l3[1] + l4[1]\n",
    "l3[2] + l4[2]\n",
    "l3[3] + l4[3]"
   ]
  },
  {
   "cell_type": "code",
   "execution_count": 43,
   "id": "9a4f8a47",
   "metadata": {},
   "outputs": [],
   "source": [
    "destinazione = []\n",
    "for i in range(4):\n",
    "    destinazione.append(l3[i] + l4[i])"
   ]
  },
  {
   "cell_type": "code",
   "execution_count": 44,
   "id": "34cc1fab",
   "metadata": {},
   "outputs": [
    {
     "data": {
      "text/plain": [
       "[11, 22, 33, 44]"
      ]
     },
     "execution_count": 44,
     "metadata": {},
     "output_type": "execute_result"
    }
   ],
   "source": [
    "destinazione"
   ]
  },
  {
   "cell_type": "code",
   "execution_count": 42,
   "id": "addc8c6e",
   "metadata": {},
   "outputs": [
    {
     "data": {
      "text/plain": [
       "[11, 22, 33, 44]"
      ]
     },
     "execution_count": 42,
     "metadata": {},
     "output_type": "execute_result"
    }
   ],
   "source": [
    "[x + y for (x, y) in zip(l3, l4)]"
   ]
  },
  {
   "cell_type": "code",
   "execution_count": null,
   "id": "1de156ed",
   "metadata": {},
   "outputs": [],
   "source": []
  }
 ],
 "metadata": {
  "kernelspec": {
   "display_name": "Python 3 (ipykernel)",
   "language": "python",
   "name": "python3"
  },
  "language_info": {
   "codemirror_mode": {
    "name": "ipython",
    "version": 3
   },
   "file_extension": ".py",
   "mimetype": "text/x-python",
   "name": "python",
   "nbconvert_exporter": "python",
   "pygments_lexer": "ipython3",
   "version": "3.10.9"
  }
 },
 "nbformat": 4,
 "nbformat_minor": 5
}

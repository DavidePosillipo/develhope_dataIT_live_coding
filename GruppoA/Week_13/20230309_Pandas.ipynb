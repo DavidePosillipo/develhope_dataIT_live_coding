{
 "cells": [
  {
   "cell_type": "code",
   "execution_count": 1,
   "id": "9612bd8f",
   "metadata": {},
   "outputs": [],
   "source": [
    "import pandas as pd"
   ]
  },
  {
   "cell_type": "markdown",
   "id": "3612da78",
   "metadata": {},
   "source": [
    "### Data Structures in Pandas\n",
    "- Series\n",
    "- DataFrame\n",
    "\n",
    "Entrambe le data structures sono costruite usando Numpy die"
   ]
  },
  {
   "cell_type": "markdown",
   "id": "5f8ccd88",
   "metadata": {},
   "source": [
    "#### Series"
   ]
  },
  {
   "cell_type": "markdown",
   "id": "29c44f5c",
   "metadata": {},
   "source": [
    "E' un one-dimensional array"
   ]
  },
  {
   "cell_type": "code",
   "execution_count": 2,
   "id": "d2e25108",
   "metadata": {
    "scrolled": true
   },
   "outputs": [
    {
     "data": {
      "text/plain": [
       "0                7\n",
       "1       Heisenberg\n",
       "2             3.14\n",
       "3      -1789710578\n",
       "4    Happy Eating!\n",
       "dtype: object"
      ]
     },
     "execution_count": 2,
     "metadata": {},
     "output_type": "execute_result"
    }
   ],
   "source": [
    "# create a Series with an arbitrary list\n",
    "s = pd.Series([7, 'Heisenberg', 3.14, -1789710578, 'Happy Eating!'])\n",
    "s"
   ]
  },
  {
   "cell_type": "code",
   "execution_count": 3,
   "id": "fe7bd1bc",
   "metadata": {},
   "outputs": [
    {
     "data": {
      "text/plain": [
       "A                7\n",
       "Z       Heisenberg\n",
       "C             3.14\n",
       "Y      -1789710578\n",
       "E    Happy Eating!\n",
       "dtype: object"
      ]
     },
     "execution_count": 3,
     "metadata": {},
     "output_type": "execute_result"
    }
   ],
   "source": [
    "# personalizzazione dell'indice\n",
    "s = pd.Series([7, 'Heisenberg', 3.14, -1789710578, 'Happy Eating!'],\n",
    "              index=['A', 'Z', 'C', 'Y', 'E'])\n",
    "s"
   ]
  },
  {
   "cell_type": "code",
   "execution_count": 4,
   "id": "f5c46c36",
   "metadata": {},
   "outputs": [
    {
     "data": {
      "text/plain": [
       "Davide       100\n",
       "Alessio     1000\n",
       "Luca       10000\n",
       "dtype: int64"
      ]
     },
     "execution_count": 4,
     "metadata": {},
     "output_type": "execute_result"
    }
   ],
   "source": [
    "d = {\"Davide\": 100, \"Alessio\": 1000, \"Luca\": 10000}\n",
    "nomi = pd.Series(d)\n",
    "nomi"
   ]
  },
  {
   "cell_type": "code",
   "execution_count": 5,
   "id": "daaa0c98",
   "metadata": {},
   "outputs": [
    {
     "data": {
      "text/plain": [
       "100"
      ]
     },
     "execution_count": 5,
     "metadata": {},
     "output_type": "execute_result"
    }
   ],
   "source": [
    "# Selezione di un valore da una serie (subsetting)\n",
    "nomi['Davide']"
   ]
  },
  {
   "cell_type": "code",
   "execution_count": 6,
   "id": "19dcfad0",
   "metadata": {},
   "outputs": [
    {
     "data": {
      "text/plain": [
       "Davide      100\n",
       "Alessio    1000\n",
       "dtype: int64"
      ]
     },
     "execution_count": 6,
     "metadata": {},
     "output_type": "execute_result"
    }
   ],
   "source": [
    "nomi[['Davide', 'Alessio']]"
   ]
  },
  {
   "cell_type": "code",
   "execution_count": 16,
   "id": "85df4d66",
   "metadata": {},
   "outputs": [
    {
     "data": {
      "text/plain": [
       "Davide    100\n",
       "dtype: int64"
      ]
     },
     "execution_count": 16,
     "metadata": {},
     "output_type": "execute_result"
    }
   ],
   "source": [
    "# subsetting booleano\n",
    "nomi[nomi < 1000]"
   ]
  },
  {
   "cell_type": "code",
   "execution_count": 12,
   "id": "f1d37940",
   "metadata": {},
   "outputs": [
    {
     "data": {
      "text/plain": [
       "Davide      100\n",
       "Luca      10000\n",
       "dtype: int64"
      ]
     },
     "execution_count": 12,
     "metadata": {},
     "output_type": "execute_result"
    }
   ],
   "source": [
    "nomi[[True, False, True]]"
   ]
  },
  {
   "cell_type": "code",
   "execution_count": 10,
   "id": "538c8ef6",
   "metadata": {},
   "outputs": [
    {
     "data": {
      "text/plain": [
       "Davide      True\n",
       "Alessio    False\n",
       "Luca       False\n",
       "dtype: bool"
      ]
     },
     "execution_count": 10,
     "metadata": {},
     "output_type": "execute_result"
    }
   ],
   "source": [
    "nomi < 1000"
   ]
  },
  {
   "cell_type": "code",
   "execution_count": 9,
   "id": "84e06188",
   "metadata": {},
   "outputs": [
    {
     "data": {
      "text/plain": [
       "pandas.core.series.Series"
      ]
     },
     "execution_count": 9,
     "metadata": {},
     "output_type": "execute_result"
    }
   ],
   "source": [
    "type(nomi < 1000)"
   ]
  },
  {
   "cell_type": "code",
   "execution_count": 17,
   "id": "6dea4ab3",
   "metadata": {},
   "outputs": [
    {
     "data": {
      "text/plain": [
       "Davide      3000\n",
       "Alessio     1000\n",
       "Luca       10000\n",
       "dtype: int64"
      ]
     },
     "execution_count": 17,
     "metadata": {},
     "output_type": "execute_result"
    }
   ],
   "source": [
    "## Assegnare un nuovo valore per un elemento della serie\n",
    "nomi['Davide'] = 3000\n",
    "nomi"
   ]
  },
  {
   "cell_type": "code",
   "execution_count": 18,
   "id": "40e09588",
   "metadata": {},
   "outputs": [
    {
     "data": {
      "text/plain": [
       "Davide     3000\n",
       "Alessio    1000\n",
       "Luca         20\n",
       "dtype: int64"
      ]
     },
     "execution_count": 18,
     "metadata": {},
     "output_type": "execute_result"
    }
   ],
   "source": [
    "nomi[nomi>9000] = 20\n",
    "nomi"
   ]
  },
  {
   "cell_type": "code",
   "execution_count": 19,
   "id": "fd239ea2",
   "metadata": {},
   "outputs": [
    {
     "data": {
      "text/plain": [
       "Davide     60000\n",
       "Alessio    20000\n",
       "Luca         400\n",
       "dtype: int64"
      ]
     },
     "execution_count": 19,
     "metadata": {},
     "output_type": "execute_result"
    }
   ],
   "source": [
    "# operazioni aritmetiche\n",
    "nomi * 20"
   ]
  },
  {
   "cell_type": "code",
   "execution_count": 20,
   "id": "e8f8f71b",
   "metadata": {},
   "outputs": [
    {
     "data": {
      "text/plain": [
       "Davide     300.0\n",
       "Alessio    100.0\n",
       "Luca         2.0\n",
       "dtype: float64"
      ]
     },
     "execution_count": 20,
     "metadata": {},
     "output_type": "execute_result"
    }
   ],
   "source": [
    "nomi / 10"
   ]
  },
  {
   "cell_type": "code",
   "execution_count": 21,
   "id": "93944d21",
   "metadata": {},
   "outputs": [
    {
     "ename": "TypeError",
     "evalue": "unsupported operand type(s) for /: 'list' and 'int'",
     "output_type": "error",
     "traceback": [
      "\u001b[0;31m---------------------------------------------------------------------------\u001b[0m",
      "\u001b[0;31mTypeError\u001b[0m                                 Traceback (most recent call last)",
      "\u001b[0;32m/var/folders/b1/3kx90hls3vb6pt3yflbcnlh40000gn/T/ipykernel_34868/3987730073.py\u001b[0m in \u001b[0;36m<cell line: 2>\u001b[0;34m()\u001b[0m\n\u001b[1;32m      1\u001b[0m \u001b[0ml\u001b[0m \u001b[0;34m=\u001b[0m \u001b[0;34m[\u001b[0m\u001b[0;36m20\u001b[0m\u001b[0;34m,\u001b[0m \u001b[0;36m30\u001b[0m\u001b[0;34m,\u001b[0m \u001b[0;36m40\u001b[0m\u001b[0;34m]\u001b[0m\u001b[0;34m\u001b[0m\u001b[0;34m\u001b[0m\u001b[0m\n\u001b[0;32m----> 2\u001b[0;31m \u001b[0ml\u001b[0m\u001b[0;34m/\u001b[0m\u001b[0;36m10\u001b[0m\u001b[0;34m\u001b[0m\u001b[0;34m\u001b[0m\u001b[0m\n\u001b[0m",
      "\u001b[0;31mTypeError\u001b[0m: unsupported operand type(s) for /: 'list' and 'int'"
     ]
    }
   ],
   "source": [
    "l = [20, 30, 40]\n",
    "l/10"
   ]
  },
  {
   "cell_type": "code",
   "execution_count": 26,
   "id": "5fd12d77",
   "metadata": {},
   "outputs": [],
   "source": [
    "string_series = pd.Series(\n",
    "    [\n",
    "        \"Davide Posillipo\", \n",
    "        \"Alessio Spagnolo\", \n",
    "        \"Paolo Carlevero\"\n",
    "    ]\n",
    ")"
   ]
  },
  {
   "cell_type": "code",
   "execution_count": 25,
   "id": "e74971de",
   "metadata": {},
   "outputs": [
    {
     "data": {
      "text/plain": [
       "pandas.core.series.Series"
      ]
     },
     "execution_count": 25,
     "metadata": {},
     "output_type": "execute_result"
    }
   ],
   "source": [
    "type(string_series)"
   ]
  },
  {
   "cell_type": "code",
   "execution_count": 27,
   "id": "5f510e31",
   "metadata": {},
   "outputs": [
    {
     "data": {
      "text/plain": [
       "0    Davide_Posillipo\n",
       "1    Alessio_Spagnolo\n",
       "2     Paolo_Carlevero\n",
       "dtype: object"
      ]
     },
     "execution_count": 27,
     "metadata": {},
     "output_type": "execute_result"
    }
   ],
   "source": [
    "string_series.str.replace(\" \", \"_\")"
   ]
  },
  {
   "cell_type": "code",
   "execution_count": 28,
   "id": "8d23ba0a",
   "metadata": {},
   "outputs": [
    {
     "data": {
      "text/plain": [
       "'{\"0\":\"Davide Posillipo\",\"1\":\"Alessio Spagnolo\",\"2\":\"Paolo Carlevero\"}'"
      ]
     },
     "execution_count": 28,
     "metadata": {},
     "output_type": "execute_result"
    }
   ],
   "source": [
    "string_series.to_json()"
   ]
  },
  {
   "cell_type": "markdown",
   "id": "6a4027eb",
   "metadata": {},
   "source": [
    "## Dataframes"
   ]
  },
  {
   "cell_type": "code",
   "execution_count": 37,
   "id": "e5e289f7",
   "metadata": {},
   "outputs": [],
   "source": [
    "data = {'year': [2010, 2011, 2012, 2011, 2012, 2010, 2011, 2012],\n",
    "        'team': ['Bears', 'Bears', 'Bears', 'Packers', 'Packers', 'Lions', 'Lions', 'Lions'],\n",
    "        'wins': [11, 8, 10, 15, 11, 6, 10, 4],\n",
    "        'losses': [5, 8, 6, 1, 5, 10, 6, 12],\n",
    "        \"bool\" : [True, False, True, False, True, False, True, False]}"
   ]
  },
  {
   "cell_type": "code",
   "execution_count": 38,
   "id": "c2f5f64d",
   "metadata": {},
   "outputs": [],
   "source": [
    "football = pd.DataFrame(data)"
   ]
  },
  {
   "cell_type": "code",
   "execution_count": 39,
   "id": "e5700667",
   "metadata": {},
   "outputs": [
    {
     "data": {
      "text/html": [
       "<div>\n",
       "<style scoped>\n",
       "    .dataframe tbody tr th:only-of-type {\n",
       "        vertical-align: middle;\n",
       "    }\n",
       "\n",
       "    .dataframe tbody tr th {\n",
       "        vertical-align: top;\n",
       "    }\n",
       "\n",
       "    .dataframe thead th {\n",
       "        text-align: right;\n",
       "    }\n",
       "</style>\n",
       "<table border=\"1\" class=\"dataframe\">\n",
       "  <thead>\n",
       "    <tr style=\"text-align: right;\">\n",
       "      <th></th>\n",
       "      <th>year</th>\n",
       "      <th>team</th>\n",
       "      <th>wins</th>\n",
       "      <th>losses</th>\n",
       "      <th>bool</th>\n",
       "    </tr>\n",
       "  </thead>\n",
       "  <tbody>\n",
       "    <tr>\n",
       "      <th>0</th>\n",
       "      <td>2010</td>\n",
       "      <td>Bears</td>\n",
       "      <td>11</td>\n",
       "      <td>5</td>\n",
       "      <td>True</td>\n",
       "    </tr>\n",
       "    <tr>\n",
       "      <th>1</th>\n",
       "      <td>2011</td>\n",
       "      <td>Bears</td>\n",
       "      <td>8</td>\n",
       "      <td>8</td>\n",
       "      <td>False</td>\n",
       "    </tr>\n",
       "    <tr>\n",
       "      <th>2</th>\n",
       "      <td>2012</td>\n",
       "      <td>Bears</td>\n",
       "      <td>10</td>\n",
       "      <td>6</td>\n",
       "      <td>True</td>\n",
       "    </tr>\n",
       "    <tr>\n",
       "      <th>3</th>\n",
       "      <td>2011</td>\n",
       "      <td>Packers</td>\n",
       "      <td>15</td>\n",
       "      <td>1</td>\n",
       "      <td>False</td>\n",
       "    </tr>\n",
       "    <tr>\n",
       "      <th>4</th>\n",
       "      <td>2012</td>\n",
       "      <td>Packers</td>\n",
       "      <td>11</td>\n",
       "      <td>5</td>\n",
       "      <td>True</td>\n",
       "    </tr>\n",
       "    <tr>\n",
       "      <th>5</th>\n",
       "      <td>2010</td>\n",
       "      <td>Lions</td>\n",
       "      <td>6</td>\n",
       "      <td>10</td>\n",
       "      <td>False</td>\n",
       "    </tr>\n",
       "    <tr>\n",
       "      <th>6</th>\n",
       "      <td>2011</td>\n",
       "      <td>Lions</td>\n",
       "      <td>10</td>\n",
       "      <td>6</td>\n",
       "      <td>True</td>\n",
       "    </tr>\n",
       "    <tr>\n",
       "      <th>7</th>\n",
       "      <td>2012</td>\n",
       "      <td>Lions</td>\n",
       "      <td>4</td>\n",
       "      <td>12</td>\n",
       "      <td>False</td>\n",
       "    </tr>\n",
       "  </tbody>\n",
       "</table>\n",
       "</div>"
      ],
      "text/plain": [
       "   year     team  wins  losses   bool\n",
       "0  2010    Bears    11       5   True\n",
       "1  2011    Bears     8       8  False\n",
       "2  2012    Bears    10       6   True\n",
       "3  2011  Packers    15       1  False\n",
       "4  2012  Packers    11       5   True\n",
       "5  2010    Lions     6      10  False\n",
       "6  2011    Lions    10       6   True\n",
       "7  2012    Lions     4      12  False"
      ]
     },
     "execution_count": 39,
     "metadata": {},
     "output_type": "execute_result"
    }
   ],
   "source": [
    "football"
   ]
  },
  {
   "cell_type": "code",
   "execution_count": 40,
   "id": "5b29ed3c",
   "metadata": {},
   "outputs": [
    {
     "data": {
      "text/plain": [
       "pandas.core.frame.DataFrame"
      ]
     },
     "execution_count": 40,
     "metadata": {},
     "output_type": "execute_result"
    }
   ],
   "source": [
    "type(football)"
   ]
  },
  {
   "cell_type": "code",
   "execution_count": 41,
   "id": "deeea36c",
   "metadata": {},
   "outputs": [
    {
     "data": {
      "text/plain": [
       "pandas.core.series.Series"
      ]
     },
     "execution_count": 41,
     "metadata": {},
     "output_type": "execute_result"
    }
   ],
   "source": [
    "type(football['wins'])"
   ]
  },
  {
   "cell_type": "code",
   "execution_count": 42,
   "id": "31cd4bd9",
   "metadata": {},
   "outputs": [
    {
     "data": {
      "text/plain": [
       "0    11\n",
       "1     8\n",
       "2    10\n",
       "3    15\n",
       "4    11\n",
       "5     6\n",
       "6    10\n",
       "7     4\n",
       "Name: wins, dtype: int64"
      ]
     },
     "execution_count": 42,
     "metadata": {},
     "output_type": "execute_result"
    }
   ],
   "source": [
    "# Selezionare le colonne\n",
    "football['wins']"
   ]
  },
  {
   "cell_type": "code",
   "execution_count": 43,
   "id": "57d0dcca",
   "metadata": {},
   "outputs": [
    {
     "data": {
      "text/plain": [
       "0    11\n",
       "1     8\n",
       "2    10\n",
       "3    15\n",
       "4    11\n",
       "5     6\n",
       "6    10\n",
       "7     4\n",
       "Name: wins, dtype: int64"
      ]
     },
     "execution_count": 43,
     "metadata": {},
     "output_type": "execute_result"
    }
   ],
   "source": [
    "football.wins"
   ]
  },
  {
   "cell_type": "markdown",
   "id": "722c5863",
   "metadata": {},
   "source": [
    "### Utilities"
   ]
  },
  {
   "cell_type": "code",
   "execution_count": 44,
   "id": "54b9c9a4",
   "metadata": {
    "scrolled": true
   },
   "outputs": [
    {
     "name": "stdout",
     "output_type": "stream",
     "text": [
      "<class 'pandas.core.frame.DataFrame'>\n",
      "RangeIndex: 8 entries, 0 to 7\n",
      "Data columns (total 5 columns):\n",
      " #   Column  Non-Null Count  Dtype \n",
      "---  ------  --------------  ----- \n",
      " 0   year    8 non-null      int64 \n",
      " 1   team    8 non-null      object\n",
      " 2   wins    8 non-null      int64 \n",
      " 3   losses  8 non-null      int64 \n",
      " 4   bool    8 non-null      bool  \n",
      "dtypes: bool(1), int64(3), object(1)\n",
      "memory usage: 392.0+ bytes\n"
     ]
    }
   ],
   "source": [
    "football.info()"
   ]
  },
  {
   "cell_type": "code",
   "execution_count": 46,
   "id": "d0e64253",
   "metadata": {},
   "outputs": [
    {
     "data": {
      "text/plain": [
       "0    a\n",
       "1    b\n",
       "2    c\n",
       "dtype: string"
      ]
     },
     "execution_count": 46,
     "metadata": {},
     "output_type": "execute_result"
    }
   ],
   "source": [
    "pd.Series([\"a\", \"b\", \"c\"], dtype=pd.StringDtype())"
   ]
  },
  {
   "cell_type": "code",
   "execution_count": 47,
   "id": "6ca3ad6f",
   "metadata": {},
   "outputs": [],
   "source": [
    "football = football.astype({\"team\": pd.StringDtype()})"
   ]
  },
  {
   "cell_type": "code",
   "execution_count": 48,
   "id": "30bcf08c",
   "metadata": {
    "scrolled": true
   },
   "outputs": [
    {
     "name": "stdout",
     "output_type": "stream",
     "text": [
      "<class 'pandas.core.frame.DataFrame'>\n",
      "RangeIndex: 8 entries, 0 to 7\n",
      "Data columns (total 5 columns):\n",
      " #   Column  Non-Null Count  Dtype \n",
      "---  ------  --------------  ----- \n",
      " 0   year    8 non-null      int64 \n",
      " 1   team    8 non-null      string\n",
      " 2   wins    8 non-null      int64 \n",
      " 3   losses  8 non-null      int64 \n",
      " 4   bool    8 non-null      bool  \n",
      "dtypes: bool(1), int64(3), string(1)\n",
      "memory usage: 392.0 bytes\n"
     ]
    }
   ],
   "source": [
    "football.info()"
   ]
  },
  {
   "cell_type": "code",
   "execution_count": 49,
   "id": "284ccab2",
   "metadata": {},
   "outputs": [],
   "source": [
    "football_2 = pd.DataFrame(data)"
   ]
  },
  {
   "cell_type": "code",
   "execution_count": 53,
   "id": "0cf5dda1",
   "metadata": {},
   "outputs": [],
   "source": [
    "football_2.team = football_2.team.astype(pd.StringDtype())"
   ]
  },
  {
   "cell_type": "code",
   "execution_count": 55,
   "id": "c0481fd7",
   "metadata": {},
   "outputs": [
    {
     "name": "stdout",
     "output_type": "stream",
     "text": [
      "<class 'pandas.core.frame.DataFrame'>\n",
      "RangeIndex: 8 entries, 0 to 7\n",
      "Data columns (total 5 columns):\n",
      " #   Column  Non-Null Count  Dtype \n",
      "---  ------  --------------  ----- \n",
      " 0   year    8 non-null      int64 \n",
      " 1   team    8 non-null      string\n",
      " 2   wins    8 non-null      int64 \n",
      " 3   losses  8 non-null      int64 \n",
      " 4   bool    8 non-null      bool  \n",
      "dtypes: bool(1), int64(3), string(1)\n",
      "memory usage: 392.0 bytes\n"
     ]
    }
   ],
   "source": [
    "football_2.info()"
   ]
  },
  {
   "cell_type": "code",
   "execution_count": null,
   "id": "213f95ae",
   "metadata": {},
   "outputs": [],
   "source": []
  },
  {
   "cell_type": "code",
   "execution_count": null,
   "id": "3b4e80e9",
   "metadata": {},
   "outputs": [],
   "source": []
  },
  {
   "cell_type": "code",
   "execution_count": null,
   "id": "874fcf28",
   "metadata": {},
   "outputs": [],
   "source": []
  }
 ],
 "metadata": {
  "kernelspec": {
   "display_name": "Python 3 (ipykernel)",
   "language": "python",
   "name": "python3"
  },
  "language_info": {
   "codemirror_mode": {
    "name": "ipython",
    "version": 3
   },
   "file_extension": ".py",
   "mimetype": "text/x-python",
   "name": "python",
   "nbconvert_exporter": "python",
   "pygments_lexer": "ipython3",
   "version": "3.10.9"
  }
 },
 "nbformat": 4,
 "nbformat_minor": 5
}

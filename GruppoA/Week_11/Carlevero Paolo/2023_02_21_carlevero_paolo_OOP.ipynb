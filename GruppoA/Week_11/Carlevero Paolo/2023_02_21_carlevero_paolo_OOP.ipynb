{
 "cells": [
  {
   "cell_type": "markdown",
   "id": "ae293209",
   "metadata": {},
   "source": [
    "### EX 1"
   ]
  },
  {
   "cell_type": "markdown",
   "id": "af0dae0a",
   "metadata": {},
   "source": [
    "In this exercise, you’ll define a class, Scoop, that represents a single scoop of ice cream. Each scoop should have a single attribute, flavor, a string that you can initialize when you create the instance of Scoop.\n",
    "Once your class is created, write a function (create_scoops) that creates three instances of the Scoop class, each of which has a different flavor. Put these three instances into a list called scoops. Finally, iterate over your scoops list, printing the flavor."
   ]
  },
  {
   "cell_type": "code",
   "execution_count": 3,
   "id": "016ae27e",
   "metadata": {},
   "outputs": [
    {
     "name": "stdout",
     "output_type": "stream",
     "text": [
      "chocolate\n",
      "coffee\n",
      "cream\n"
     ]
    }
   ],
   "source": [
    "class Scoop:\n",
    "\n",
    "    def __init__(self, flavor):\n",
    "        self.flavor = flavor\n",
    "\n",
    "def create_scoops(flavor_1, flavor_2, flavor_3):\n",
    "    return [Scoop(flavor_1), Scoop(flavor_2), Scoop(flavor_3)]\n",
    "\n",
    "scoops = create_scoops('chocolate', 'coffee', 'cream')\n",
    "\n",
    "for scoop in scoops:\n",
    "    print(scoop.flavor)"
   ]
  },
  {
   "cell_type": "markdown",
   "id": "c05e3921",
   "metadata": {},
   "source": [
    "### EX 2"
   ]
  },
  {
   "cell_type": "markdown",
   "id": "14d7cf04",
   "metadata": {},
   "source": [
    "(Usare l'ereditarietà)\n",
    "\n",
    "For the purposes of these exercises, you are the director of IT at a zoo. The zoo contains several different kinds of animals, and for budget reasons, some of those animals have to be housed alongside other animals.\n",
    "\n",
    "We will represent the animals as Python objects, with each species defined as a distinct class. All objects of a particular class will have the same species and number of legs, but the color will vary from one instance to another.\n",
    "\n",
    "We’re going to assume that our zoo contains four different types of animals: sheep, wolves, snakes, and parrots. (The zoo is going through some budgetary difficulties, so our animal collection is both small and unusual.) Create classes for each of these types, such that we can print each of them and get a report on their color, species, and number of legs."
   ]
  },
  {
   "cell_type": "code",
   "execution_count": 12,
   "id": "feae72d4",
   "metadata": {},
   "outputs": [
    {
     "name": "stdout",
     "output_type": "stream",
     "text": [
      "white_sheep color: white, number of legs: 4\n",
      "black_sheep color: black, number of legs: 4\n",
      "gray_wolf color: gray, number of legs: 4\n",
      "brown_wolf color: brown, number of legs: 4\n",
      "green_snake color: green, number of legs: 0\n",
      "yellow_snake color: yellow, number of legs: 0\n",
      "rainbow_parrot color: rainbow, number of legs: 2\n",
      "brown_parrot color: brown, number of legs: 2\n"
     ]
    }
   ],
   "source": [
    "class Animal:\n",
    "    \n",
    "    num_of_legs = 4\n",
    "    \n",
    "    def __init__(self, color):\n",
    "        self.color = color\n",
    "        \n",
    "class Sheep(Animal):\n",
    "    pass\n",
    "    \n",
    "class Wolf(Animal):\n",
    "    pass\n",
    "\n",
    "class Snake(Animal):\n",
    "    \n",
    "    num_of_legs = 0\n",
    "    \n",
    "class Parrot(Animal):\n",
    "    \n",
    "    num_of_legs = 2\n",
    "    \n",
    "white_sheep = Sheep('white')\n",
    "black_sheep = Sheep('black')\n",
    "gray_wolf = Wolf('gray')\n",
    "brown_wolf = Wolf('brown')\n",
    "green_snake = Snake('green')\n",
    "yellow_snake = Snake('yellow')\n",
    "rainbow_parrot = Parrot('rainbow')\n",
    "brown_parrot = Parrot('brown')\n",
    "\n",
    "for animal, animal_inst in [('white_sheep', white_sheep), ('black_sheep', black_sheep), ('gray_wolf', gray_wolf), ('brown_wolf', brown_wolf), ('green_snake', green_snake), ('yellow_snake', yellow_snake), ('rainbow_parrot', rainbow_parrot), ('brown_parrot', brown_parrot)]:\n",
    "    print(f\"{animal} color: {animal_inst.color}, number of legs: {animal_inst.num_of_legs}\")"
   ]
  },
  {
   "cell_type": "code",
   "execution_count": null,
   "id": "6c1c7406",
   "metadata": {},
   "outputs": [],
   "source": []
  }
 ],
 "metadata": {
  "kernelspec": {
   "display_name": "Python 3 (ipykernel)",
   "language": "python",
   "name": "python3"
  },
  "language_info": {
   "codemirror_mode": {
    "name": "ipython",
    "version": 3
   },
   "file_extension": ".py",
   "mimetype": "text/x-python",
   "name": "python",
   "nbconvert_exporter": "python",
   "pygments_lexer": "ipython3",
   "version": "3.9.7"
  }
 },
 "nbformat": 4,
 "nbformat_minor": 5
}

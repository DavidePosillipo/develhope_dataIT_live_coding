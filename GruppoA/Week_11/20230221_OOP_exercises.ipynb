{
 "cells": [
  {
   "cell_type": "markdown",
   "id": "ae293209",
   "metadata": {},
   "source": [
    "### EX 1"
   ]
  },
  {
   "cell_type": "markdown",
   "id": "af0dae0a",
   "metadata": {},
   "source": [
    "In this exercise, you’ll define a class, Scoop, that represents a single scoop of ice cream. Each scoop should have a single attribute, flavor, a string that you can initialize when you create the instance of Scoop.\n",
    "Once your class is created, write a function (create_scoops) that creates three instances of the Scoop class, each of which has a different flavor. Put these three instances into a list called scoops. Finally, iterate over your scoops list, printing the flavor."
   ]
  },
  {
   "cell_type": "code",
   "execution_count": null,
   "id": "016ae27e",
   "metadata": {},
   "outputs": [],
   "source": []
  },
  {
   "cell_type": "markdown",
   "id": "c05e3921",
   "metadata": {},
   "source": [
    "### EX 2"
   ]
  },
  {
   "cell_type": "markdown",
   "id": "14d7cf04",
   "metadata": {},
   "source": [
    "(Usare l'ereditarietà)\n",
    "\n",
    "For the purposes of these exercises, you are the director of IT at a zoo. The zoo contains several different kinds of animals, and for budget reasons, some of those animals have to be housed alongside other animals.\n",
    "\n",
    "We will represent the animals as Python objects, with each species defined as a distinct class. All objects of a particular class will have the same species and number of legs, but the color will vary from one instance to another.\n",
    "\n",
    "We’re going to assume that our zoo contains four different types of animals: sheep, wolves, snakes, and parrots. (The zoo is going through some budgetary difficulties, so our animal collection is both small and unusual.) Create classes for each of these types, such that we can print each of them and get a report on their color, species, and number of legs."
   ]
  },
  {
   "cell_type": "code",
   "execution_count": null,
   "id": "feae72d4",
   "metadata": {},
   "outputs": [],
   "source": []
  }
 ],
 "metadata": {
  "kernelspec": {
   "display_name": "Python 3 (ipykernel)",
   "language": "python",
   "name": "python3"
  },
  "language_info": {
   "codemirror_mode": {
    "name": "ipython",
    "version": 3
   },
   "file_extension": ".py",
   "mimetype": "text/x-python",
   "name": "python",
   "nbconvert_exporter": "python",
   "pygments_lexer": "ipython3",
   "version": "3.10.9"
  }
 },
 "nbformat": 4,
 "nbformat_minor": 5
}

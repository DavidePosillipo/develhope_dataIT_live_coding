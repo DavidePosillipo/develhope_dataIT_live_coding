{
 "cells": [
  {
   "cell_type": "markdown",
   "id": "487aafd8",
   "metadata": {},
   "source": [
    "## Intro to Numpy"
   ]
  },
  {
   "cell_type": "markdown",
   "id": "2811533d",
   "metadata": {},
   "source": [
    "Textbook: https://datawranglingpy.gagolewski.com/index.html"
   ]
  },
  {
   "cell_type": "markdown",
   "id": "78b78345",
   "metadata": {},
   "source": [
    "ndarray: N-dimensional array \n",
    "\n",
    "(2, 1, 0)\n",
    "\n",
    "N=0 -> numero, \"scalare\" esempio: 5\n",
    "N=1 -> vettore, esempio (2, 1, 0)\n",
    "N=2 -> matrici\n",
    "\n",
    "2 3 4\n",
    "1 1 1\n",
    "2 3 1\n",
    "\n",
    "N>2 -> tensori"
   ]
  },
  {
   "cell_type": "code",
   "execution_count": 1,
   "id": "50eafebe",
   "metadata": {},
   "outputs": [],
   "source": [
    "import numpy as np"
   ]
  },
  {
   "cell_type": "code",
   "execution_count": 2,
   "id": "d1c3513e",
   "metadata": {},
   "outputs": [],
   "source": [
    "n = 10000"
   ]
  },
  {
   "cell_type": "code",
   "execution_count": 3,
   "id": "016024a1",
   "metadata": {},
   "outputs": [
    {
     "name": "stdout",
     "output_type": "stream",
     "text": [
      "2.05 ms ± 19.9 µs per loop (mean ± std. dev. of 7 runs, 100 loops each)\n"
     ]
    }
   ],
   "source": [
    "%timeit [ e**2 for e in range(n) ]"
   ]
  },
  {
   "cell_type": "code",
   "execution_count": 4,
   "id": "ea4f3032",
   "metadata": {},
   "outputs": [
    {
     "name": "stdout",
     "output_type": "stream",
     "text": [
      "6.76 µs ± 10.5 ns per loop (mean ± std. dev. of 7 runs, 100000 loops each)\n"
     ]
    }
   ],
   "source": [
    "%timeit np.arange(n)**2"
   ]
  },
  {
   "cell_type": "code",
   "execution_count": 5,
   "id": "650b4caa",
   "metadata": {},
   "outputs": [],
   "source": [
    "# write a function to compute the variance of x\n",
    "def variance(x):\n",
    "    n = len(x)\n",
    "    \n",
    "    m = 0.0\n",
    "    for i in range(n):\n",
    "        m += x[i]\n",
    "    m /= n\n",
    "    \n",
    "    s = 0.0\n",
    "    for i in range(n):\n",
    "        s += (x[i]-m)**2\n",
    "    s /= n-1\n",
    "    \n",
    "    return s"
   ]
  },
  {
   "cell_type": "code",
   "execution_count": 6,
   "id": "775a2259",
   "metadata": {},
   "outputs": [],
   "source": [
    "x = np.random.random(10_000)"
   ]
  },
  {
   "cell_type": "code",
   "execution_count": 7,
   "id": "249a5ede",
   "metadata": {},
   "outputs": [
    {
     "name": "stdout",
     "output_type": "stream",
     "text": [
      "3.01 ms ± 9.94 µs per loop (mean ± std. dev. of 7 runs, 100 loops each)\n",
      "15.4 µs ± 133 ns per loop (mean ± std. dev. of 7 runs, 100000 loops each)\n",
      "14.7 µs ± 88.1 ns per loop (mean ± std. dev. of 7 runs, 100000 loops each)\n",
      "13.6 µs ± 114 ns per loop (mean ± std. dev. of 7 runs, 100000 loops each)\n"
     ]
    }
   ],
   "source": [
    "%timeit variance(x)\n",
    "%timeit np.var(x, ddof=1)\n",
    "%timeit x.var(ddof=1)\n",
    "%timeit np.sum((x-np.mean(x))**2)/(len(x)-1)"
   ]
  },
  {
   "cell_type": "markdown",
   "id": "fd19e80c",
   "metadata": {},
   "source": [
    "### Creazione di arrays"
   ]
  },
  {
   "cell_type": "markdown",
   "id": "e931335a",
   "metadata": {},
   "source": [
    "ndarray: N-dimensional array \n",
    "\n",
    "(2, 1, 0)\n",
    "\n",
    "N=0 -> numero, \"scalare\" esempio: 5\n",
    "N=1 -> vettore, esempio (2, 1, 0)\n",
    "N=2 -> matrici\n",
    "\n",
    "2 3 4\n",
    "1 1 1\n",
    "2 3 1\n",
    "\n",
    "N>2 -> tensori"
   ]
  },
  {
   "cell_type": "code",
   "execution_count": 8,
   "id": "4d13b7f5",
   "metadata": {},
   "outputs": [],
   "source": [
    "x = np.arange(10)"
   ]
  },
  {
   "cell_type": "code",
   "execution_count": 9,
   "id": "b9105280",
   "metadata": {},
   "outputs": [
    {
     "data": {
      "text/plain": [
       "array([0, 1, 2, 3, 4, 5, 6, 7, 8, 9])"
      ]
     },
     "execution_count": 9,
     "metadata": {},
     "output_type": "execute_result"
    }
   ],
   "source": [
    "x"
   ]
  },
  {
   "cell_type": "code",
   "execution_count": 10,
   "id": "3f60301f",
   "metadata": {},
   "outputs": [
    {
     "data": {
      "text/plain": [
       "numpy.ndarray"
      ]
     },
     "execution_count": 10,
     "metadata": {},
     "output_type": "execute_result"
    }
   ],
   "source": [
    "type(x)"
   ]
  },
  {
   "cell_type": "code",
   "execution_count": 11,
   "id": "34207726",
   "metadata": {},
   "outputs": [
    {
     "data": {
      "text/plain": [
       "1"
      ]
     },
     "execution_count": 11,
     "metadata": {},
     "output_type": "execute_result"
    }
   ],
   "source": [
    "x.ndim"
   ]
  },
  {
   "cell_type": "code",
   "execution_count": 14,
   "id": "1d4c5f1f",
   "metadata": {},
   "outputs": [
    {
     "data": {
      "text/plain": [
       "10"
      ]
     },
     "execution_count": 14,
     "metadata": {},
     "output_type": "execute_result"
    }
   ],
   "source": [
    "x.shape[0]"
   ]
  },
  {
   "cell_type": "code",
   "execution_count": 15,
   "id": "0d790662",
   "metadata": {},
   "outputs": [
    {
     "data": {
      "text/plain": [
       "dtype('int64')"
      ]
     },
     "execution_count": 15,
     "metadata": {},
     "output_type": "execute_result"
    }
   ],
   "source": [
    "x.dtype"
   ]
  },
  {
   "cell_type": "code",
   "execution_count": 21,
   "id": "0974b0a5",
   "metadata": {},
   "outputs": [
    {
     "data": {
      "text/plain": [
       "array([0., 0., 0., 0., 0., 0., 0., 0., 0., 0.])"
      ]
     },
     "execution_count": 21,
     "metadata": {},
     "output_type": "execute_result"
    }
   ],
   "source": [
    "np.zeros(10, dtype=float)"
   ]
  },
  {
   "cell_type": "code",
   "execution_count": 29,
   "id": "8449bc18",
   "metadata": {},
   "outputs": [],
   "source": [
    "A = np.array(\n",
    "    [\n",
    "        [1, 2, 3],\n",
    "        [4, 5, 6],\n",
    "        [7, 8, 9]\n",
    "    ]\n",
    ")"
   ]
  },
  {
   "cell_type": "code",
   "execution_count": 30,
   "id": "2e08ea68",
   "metadata": {},
   "outputs": [
    {
     "data": {
      "text/plain": [
       "2"
      ]
     },
     "execution_count": 30,
     "metadata": {},
     "output_type": "execute_result"
    }
   ],
   "source": [
    "A.ndim"
   ]
  },
  {
   "cell_type": "code",
   "execution_count": 31,
   "id": "8b22ebf9",
   "metadata": {},
   "outputs": [
    {
     "data": {
      "text/plain": [
       "array([[1, 2, 3],\n",
       "       [4, 5, 6],\n",
       "       [7, 8, 9]])"
      ]
     },
     "execution_count": 31,
     "metadata": {},
     "output_type": "execute_result"
    }
   ],
   "source": [
    "A"
   ]
  },
  {
   "cell_type": "code",
   "execution_count": 32,
   "id": "8d345327",
   "metadata": {},
   "outputs": [
    {
     "data": {
      "text/plain": [
       "(3, 3)"
      ]
     },
     "execution_count": 32,
     "metadata": {},
     "output_type": "execute_result"
    }
   ],
   "source": [
    "A.shape"
   ]
  },
  {
   "cell_type": "code",
   "execution_count": 36,
   "id": "ee6a18b7",
   "metadata": {},
   "outputs": [],
   "source": [
    "m = np.array(1)"
   ]
  },
  {
   "cell_type": "code",
   "execution_count": 39,
   "id": "6ddd4a09",
   "metadata": {},
   "outputs": [
    {
     "data": {
      "text/plain": [
       "0"
      ]
     },
     "execution_count": 39,
     "metadata": {},
     "output_type": "execute_result"
    }
   ],
   "source": [
    "m.ndim"
   ]
  },
  {
   "cell_type": "code",
   "execution_count": 40,
   "id": "32c91142",
   "metadata": {},
   "outputs": [
    {
     "data": {
      "text/plain": [
       "array([[ 1,  4,  9],\n",
       "       [16, 25, 36],\n",
       "       [49, 64, 81]])"
      ]
     },
     "execution_count": 40,
     "metadata": {},
     "output_type": "execute_result"
    }
   ],
   "source": [
    "A * A"
   ]
  },
  {
   "cell_type": "code",
   "execution_count": 41,
   "id": "86d007d5",
   "metadata": {},
   "outputs": [
    {
     "data": {
      "text/plain": [
       "array([[ 14,  32,  50],\n",
       "       [ 32,  77, 122],\n",
       "       [ 50, 122, 194]])"
      ]
     },
     "execution_count": 41,
     "metadata": {},
     "output_type": "execute_result"
    }
   ],
   "source": [
    "A @ A.T"
   ]
  },
  {
   "cell_type": "markdown",
   "id": "9f4b42de",
   "metadata": {},
   "source": [
    "#### Reshaping"
   ]
  },
  {
   "cell_type": "code",
   "execution_count": 51,
   "id": "0de9dc10",
   "metadata": {},
   "outputs": [],
   "source": [
    "B = np.array([\n",
    "    [ 1,  2,  3,  4],\n",
    "    [ 5,  6,  7,  8],\n",
    "    [ 9, 10, 11, 12]\n",
    "])"
   ]
  },
  {
   "cell_type": "code",
   "execution_count": 52,
   "id": "6c0cdfb8",
   "metadata": {},
   "outputs": [],
   "source": [
    "B.shape = (12, 1)"
   ]
  },
  {
   "cell_type": "code",
   "execution_count": 53,
   "id": "0dbb2226",
   "metadata": {},
   "outputs": [
    {
     "data": {
      "text/plain": [
       "array([[ 1],\n",
       "       [ 2],\n",
       "       [ 3],\n",
       "       [ 4],\n",
       "       [ 5],\n",
       "       [ 6],\n",
       "       [ 7],\n",
       "       [ 8],\n",
       "       [ 9],\n",
       "       [10],\n",
       "       [11],\n",
       "       [12]])"
      ]
     },
     "execution_count": 53,
     "metadata": {},
     "output_type": "execute_result"
    }
   ],
   "source": [
    "B"
   ]
  },
  {
   "cell_type": "code",
   "execution_count": 56,
   "id": "d5894163",
   "metadata": {},
   "outputs": [
    {
     "data": {
      "text/plain": [
       "array([[ 1,  2],\n",
       "       [ 3,  4],\n",
       "       [ 5,  6],\n",
       "       [ 7,  8],\n",
       "       [ 9, 10],\n",
       "       [11, 12]])"
      ]
     },
     "execution_count": 56,
     "metadata": {},
     "output_type": "execute_result"
    }
   ],
   "source": [
    "B.reshape(6, -1)"
   ]
  },
  {
   "cell_type": "code",
   "execution_count": 57,
   "id": "107fb2d7",
   "metadata": {},
   "outputs": [
    {
     "ename": "ValueError",
     "evalue": "operands could not be broadcast together with shapes (6,2) (3,4) ",
     "output_type": "error",
     "traceback": [
      "\u001b[0;31m---------------------------------------------------------------------------\u001b[0m",
      "\u001b[0;31mValueError\u001b[0m                                Traceback (most recent call last)",
      "\u001b[0;32m/var/folders/b1/3kx90hls3vb6pt3yflbcnlh40000gn/T/ipykernel_31437/37561301.py\u001b[0m in \u001b[0;36m<cell line: 1>\u001b[0;34m()\u001b[0m\n\u001b[0;32m----> 1\u001b[0;31m \u001b[0mB\u001b[0m\u001b[0;34m.\u001b[0m\u001b[0mreshape\u001b[0m\u001b[0;34m(\u001b[0m\u001b[0;36m6\u001b[0m\u001b[0;34m,\u001b[0m \u001b[0;34m-\u001b[0m\u001b[0;36m1\u001b[0m\u001b[0;34m)\u001b[0m \u001b[0;34m*\u001b[0m \u001b[0mB\u001b[0m\u001b[0;34m.\u001b[0m\u001b[0mreshape\u001b[0m\u001b[0;34m(\u001b[0m\u001b[0;36m3\u001b[0m\u001b[0;34m,\u001b[0m \u001b[0;34m-\u001b[0m\u001b[0;36m1\u001b[0m\u001b[0;34m)\u001b[0m\u001b[0;34m\u001b[0m\u001b[0;34m\u001b[0m\u001b[0m\n\u001b[0m",
      "\u001b[0;31mValueError\u001b[0m: operands could not be broadcast together with shapes (6,2) (3,4) "
     ]
    }
   ],
   "source": [
    "B.reshape(6, -1) * B.reshape(3, -1)"
   ]
  },
  {
   "cell_type": "markdown",
   "id": "baccb5d1",
   "metadata": {},
   "source": [
    "### Aggregate Functions"
   ]
  },
  {
   "cell_type": "code",
   "execution_count": 59,
   "id": "de062514",
   "metadata": {},
   "outputs": [],
   "source": [
    "B.shape = (4, 3)"
   ]
  },
  {
   "cell_type": "code",
   "execution_count": 60,
   "id": "b67561c6",
   "metadata": {},
   "outputs": [
    {
     "data": {
      "text/plain": [
       "array([[ 1,  2,  3],\n",
       "       [ 4,  5,  6],\n",
       "       [ 7,  8,  9],\n",
       "       [10, 11, 12]])"
      ]
     },
     "execution_count": 60,
     "metadata": {},
     "output_type": "execute_result"
    }
   ],
   "source": [
    "B"
   ]
  },
  {
   "cell_type": "code",
   "execution_count": 61,
   "id": "fa90e3a2",
   "metadata": {},
   "outputs": [
    {
     "data": {
      "text/plain": [
       "78"
      ]
     },
     "execution_count": 61,
     "metadata": {},
     "output_type": "execute_result"
    }
   ],
   "source": [
    "B.sum()"
   ]
  },
  {
   "cell_type": "code",
   "execution_count": 62,
   "id": "b6c4864a",
   "metadata": {},
   "outputs": [
    {
     "data": {
      "text/plain": [
       "array([ 6, 15, 24, 33])"
      ]
     },
     "execution_count": 62,
     "metadata": {},
     "output_type": "execute_result"
    }
   ],
   "source": [
    "np.sum(B, axis=1)"
   ]
  },
  {
   "cell_type": "code",
   "execution_count": 63,
   "id": "cd0ee601",
   "metadata": {},
   "outputs": [
    {
     "data": {
      "text/plain": [
       "array([22, 26, 30])"
      ]
     },
     "execution_count": 63,
     "metadata": {},
     "output_type": "execute_result"
    }
   ],
   "source": [
    "np.sum(B, axis=0)"
   ]
  },
  {
   "cell_type": "markdown",
   "id": "76c5dd3f",
   "metadata": {},
   "source": [
    "## Esercizi"
   ]
  },
  {
   "cell_type": "markdown",
   "id": "7d6bee67",
   "metadata": {},
   "source": [
    "1. Write a function which standardizes the values in a given\n",
    "numeric vector, i.e., rescales its elements so that the resulting vector\n",
    "is of mean and standard deviation of 1.\n",
    "Note: this is also called \"Z-score computing\". (da testare su un singolo vettore, ndim=1)\n",
    "\n",
    "2. Write a function which standardizes the values in each column of\n",
    "a given matrix (separately). (da testare su oggetto ndim=2)"
   ]
  },
  {
   "cell_type": "code",
   "execution_count": null,
   "id": "7eac41d4",
   "metadata": {},
   "outputs": [],
   "source": []
  }
 ],
 "metadata": {
  "kernelspec": {
   "display_name": "Python 3 (ipykernel)",
   "language": "python",
   "name": "python3"
  },
  "language_info": {
   "codemirror_mode": {
    "name": "ipython",
    "version": 3
   },
   "file_extension": ".py",
   "mimetype": "text/x-python",
   "name": "python",
   "nbconvert_exporter": "python",
   "pygments_lexer": "ipython3",
   "version": "3.10.9"
  }
 },
 "nbformat": 4,
 "nbformat_minor": 5
}

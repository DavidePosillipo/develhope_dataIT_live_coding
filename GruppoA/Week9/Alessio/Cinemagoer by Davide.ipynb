{
 "cells": [
  {
   "cell_type": "code",
   "execution_count": 17,
   "id": "f9e1cbf7",
   "metadata": {},
   "outputs": [],
   "source": [
    "from imdb import Cinemagoer\n",
    "def retrieve_cast(movie_id):\n",
    "    movie = Cinemagoer().get_movie(movie_id)\n",
    "    movie_cast = {}\n",
    "    if 'cast' in movie.keys(): # some movies have no cast info\n",
    "        for actor in movie['cast']:\n",
    "            try:\n",
    "                if type(actor.currentRole) == list:\n",
    "                    first_role = actor.currentRole[0]\n",
    "                else:\n",
    "                    first_role = actor.currentRole\n",
    "                #first_role = actor.currentRole[0] if isinstance(actor.currentRole, list) else actor.currentRole\n",
    "                movie_cast[actor['name']] = first_role.data['name']\n",
    "            except KeyError:\n",
    "                movie_cast[actor['name']] = \"N.A.\"\n",
    "\n",
    "        return movie_cast"
   ]
  },
  {
   "cell_type": "code",
   "execution_count": 18,
   "id": "4c73a0ef",
   "metadata": {},
   "outputs": [
    {
     "data": {
      "text/plain": [
       "{'Keanu Reeves': 'Neo',\n",
       " 'Laurence Fishburne': 'Morpheus',\n",
       " 'Carrie-Anne Moss': 'Trinity',\n",
       " 'Hugo Weaving': 'Agent Smith',\n",
       " 'Gloria Foster': 'Oracle',\n",
       " 'Joe Pantoliano': 'Cypher',\n",
       " 'Marcus Chong': 'Tank',\n",
       " 'Julian Arahanga': 'Apoc',\n",
       " 'Matt Doran': 'Mouse',\n",
       " 'Belinda McClory': 'Switch',\n",
       " 'Anthony Ray Parker': 'Dozer',\n",
       " 'Paul Goddard': 'Agent Brown',\n",
       " 'Robert Taylor': 'Agent Jones',\n",
       " 'David Aston': 'Rhineheart',\n",
       " 'Marc Aden Gray': 'Choi',\n",
       " 'Ada Nicodemou': 'Dujour',\n",
       " 'Deni Gordon': 'Priestess',\n",
       " 'Rowan Witt': 'Spoon Boy',\n",
       " 'Eleanor Witt': 'Potential',\n",
       " 'Tamara Brown': 'Potential',\n",
       " 'Janaya Pender': 'Potential',\n",
       " 'Adryn White': 'Potential',\n",
       " 'Natalie Tjen': 'Potential',\n",
       " 'Bill Young': 'Lieutenant',\n",
       " \"David O'Connor\": 'FedEx Man',\n",
       " 'Jeremy Ball': 'Businessman',\n",
       " 'Fiona Johnson': 'Woman in Red',\n",
       " 'Harry Lawrence': 'Old Man',\n",
       " 'Steve Dodd': 'Blind Man',\n",
       " 'Luke Quinton': 'Security Guard',\n",
       " 'Lawrence Woodward': 'Guard',\n",
       " 'Michael Butcher': 'Cop Who Captures Neo',\n",
       " 'Bernard Ledger': 'Big Cop',\n",
       " 'Robert Simper': 'Cop',\n",
       " 'Chris Pattinson': 'Cop',\n",
       " 'Nigel Harbach': 'Parking Cop',\n",
       " 'Mike Duncan': 'Twin',\n",
       " 'Nash Edgerton': 'Resistance Member',\n",
       " 'Rana Morrison': 'Shaylae - Woman in Office',\n",
       " 'Steve Rutherford': 'Police Officer',\n",
       " 'Cody Zacharias': 'Child'}"
      ]
     },
     "execution_count": 18,
     "metadata": {},
     "output_type": "execute_result"
    }
   ],
   "source": [
    "retrieve_cast('0133093')"
   ]
  },
  {
   "cell_type": "code",
   "execution_count": null,
   "id": "f70aa10f",
   "metadata": {},
   "outputs": [],
   "source": []
  }
 ],
 "metadata": {
  "kernelspec": {
   "display_name": "Python 3 (ipykernel)",
   "language": "python",
   "name": "python3"
  },
  "language_info": {
   "codemirror_mode": {
    "name": "ipython",
    "version": 3
   },
   "file_extension": ".py",
   "mimetype": "text/x-python",
   "name": "python",
   "nbconvert_exporter": "python",
   "pygments_lexer": "ipython3",
   "version": "3.11.1"
  }
 },
 "nbformat": 4,
 "nbformat_minor": 5
}

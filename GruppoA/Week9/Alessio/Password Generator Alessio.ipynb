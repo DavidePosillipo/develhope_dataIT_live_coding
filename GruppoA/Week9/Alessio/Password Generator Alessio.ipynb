{
 "cells": [
  {
   "cell_type": "markdown",
   "id": "72ebd7f9",
   "metadata": {},
   "source": [
    "## Funzioni"
   ]
  },
  {
   "cell_type": "markdown",
   "id": "dc8d2c1f",
   "metadata": {},
   "source": [
    "## Esercizio per casa"
   ]
  },
  {
   "cell_type": "markdown",
   "id": "cab25b5d",
   "metadata": {},
   "source": [
    "\n",
    "In this exercise, we’re going to create a password-generation function. Actually, we’re going to create a factory for password-generation functions. That is, I might need to generate a large number of passwords, all of which use the same set of charac- ters. (You know how it is. Some applications require a mix of capital letters, lowercase letters, numbers, and symbols; whereas others require that you only use letters; and still others allow both letters and digits.) You’ll thus call the function create_password_generator with a string. That string will return a function, which itself takes an integer argument. Calling this function will return a password of the specified length, using the string from which it was created; "
   ]
  },
  {
   "cell_type": "markdown",
   "id": "bc5f88b7",
   "metadata": {},
   "source": [
    "alpha_password = create_password_generator('abcdef') \n",
    "symbol_password = create_password_generator('!@#$%')\n",
    "print(alpha_password(5)) # efeaa\n",
    "print(alpha_password(10)) # cacdacbada\n",
    "print(symbol_password(5)) # @!%%$\n",
    "print(symbol_password(10))  # @!%%$%$%%#"
   ]
  },
  {
   "cell_type": "code",
   "execution_count": 1,
   "id": "c7491541",
   "metadata": {},
   "outputs": [],
   "source": [
    "import random\n",
    "import string\n",
    "allchars = string.printable\n",
    "letters = string.ascii_letters\n",
    "symbols = string.punctuation\n",
    "def create_password_generator(pwpool):\n",
    "    def pippo(num):\n",
    "        pwlist = []\n",
    "        for i in range(num):\n",
    "            pwlist.append(random.choice(pwpool))\n",
    "        return ''.join(pwlist)\n",
    "    return pippo"
   ]
  },
  {
   "cell_type": "code",
   "execution_count": 2,
   "id": "a076be83",
   "metadata": {},
   "outputs": [],
   "source": [
    "alpha_password = create_password_generator(letters)\n",
    "symbol_password = create_password_generator(symbols)\n",
    "nerd_password = create_password_generator(allchars)"
   ]
  },
  {
   "cell_type": "code",
   "execution_count": 3,
   "id": "a51e7f03",
   "metadata": {},
   "outputs": [
    {
     "name": "stdout",
     "output_type": "stream",
     "text": [
      "TQdXwhUKBCgcCPZZDmG\n"
     ]
    }
   ],
   "source": [
    "print(alpha_password(19))"
   ]
  },
  {
   "cell_type": "code",
   "execution_count": 4,
   "id": "3b683f00",
   "metadata": {},
   "outputs": [
    {
     "name": "stdout",
     "output_type": "stream",
     "text": [
      ":]>&/`-+\n"
     ]
    }
   ],
   "source": [
    "print(symbol_password(8))"
   ]
  },
  {
   "cell_type": "code",
   "execution_count": 5,
   "id": "ff787170",
   "metadata": {},
   "outputs": [
    {
     "name": "stdout",
     "output_type": "stream",
     "text": [
      "Q%[O*Oih.nN\"#jVu0$\n",
      "p05+Y.8s}aJ?$|>8K#ll7Q6zB-;*!2O\n"
     ]
    }
   ],
   "source": [
    "print(nerd_password(50))"
   ]
  },
  {
   "cell_type": "code",
   "execution_count": null,
   "id": "14af21b7",
   "metadata": {},
   "outputs": [],
   "source": []
  }
 ],
 "metadata": {
  "kernelspec": {
   "display_name": "Python 3 (ipykernel)",
   "language": "python",
   "name": "python3"
  },
  "language_info": {
   "codemirror_mode": {
    "name": "ipython",
    "version": 3
   },
   "file_extension": ".py",
   "mimetype": "text/x-python",
   "name": "python",
   "nbconvert_exporter": "python",
   "pygments_lexer": "ipython3",
   "version": "3.11.1"
  }
 },
 "nbformat": 4,
 "nbformat_minor": 5
}

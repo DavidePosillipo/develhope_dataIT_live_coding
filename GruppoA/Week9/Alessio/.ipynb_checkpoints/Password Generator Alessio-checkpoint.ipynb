{
 "cells": [
  {
   "cell_type": "markdown",
   "id": "72ebd7f9",
   "metadata": {},
   "source": [
    "## Funzioni"
   ]
  },
  {
   "cell_type": "markdown",
   "id": "dc8d2c1f",
   "metadata": {},
   "source": [
    "## Esercizio per casa"
   ]
  },
  {
   "cell_type": "markdown",
   "id": "cab25b5d",
   "metadata": {},
   "source": [
    "\n",
    "In this exercise, we’re going to create a password-generation function. Actually, we’re going to create a factory for password-generation functions. That is, I might need to generate a large number of passwords, all of which use the same set of charac- ters. (You know how it is. Some applications require a mix of capital letters, lowercase letters, numbers, and symbols; whereas others require that you only use letters; and still others allow both letters and digits.) You’ll thus call the function create_password_generator with a string. That string will return a function, which itself takes an integer argument. Calling this function will return a password of the specified length, using the string from which it was created; "
   ]
  },
  {
   "cell_type": "markdown",
   "id": "bc5f88b7",
   "metadata": {},
   "source": [
    "alpha_password = create_password_generator('abcdef') \n",
    "symbol_password = create_password_generator('!@#$%')\n",
    "print(alpha_password(5)) # efeaa\n",
    "print(alpha_password(10)) # cacdacbada\n",
    "print(symbol_password(5)) # @!%%$\n",
    "print(symbol_password(10))  # @!%%$%$%%#"
   ]
  },
  {
   "cell_type": "code",
   "execution_count": 2,
   "id": "c7491541",
   "metadata": {},
   "outputs": [],
   "source": [
    "import random\n",
    "import string\n",
    "allchars = string.printable\n",
    "letters = string.ascii_letters\n",
    "symbols = string.punctuation\n",
    "def create_password_generator(pwpool):\n",
    "    def pippo(num):\n",
    "        pwlist = []\n",
    "        for i in range(num):\n",
    "            pwlist.append(random.choice(pwpool))\n",
    "        return ''.join(pwlist)\n",
    "    return pippo"
   ]
  },
  {
   "cell_type": "code",
   "execution_count": 3,
   "id": "a076be83",
   "metadata": {},
   "outputs": [],
   "source": [
    "alpha_password = create_password_generator(letters)\n",
    "symbol_password = create_password_generator(symbols)"
   ]
  },
  {
   "cell_type": "code",
   "execution_count": 4,
   "id": "a51e7f03",
   "metadata": {},
   "outputs": [
    {
     "name": "stdout",
     "output_type": "stream",
     "text": [
      "DgfIGVEfpsPaOgiGGIX\n"
     ]
    }
   ],
   "source": [
    "print(alpha_password(19))"
   ]
  },
  {
   "cell_type": "code",
   "execution_count": 5,
   "id": "3b683f00",
   "metadata": {},
   "outputs": [
    {
     "name": "stdout",
     "output_type": "stream",
     "text": [
      "}/-||?|$\n"
     ]
    }
   ],
   "source": [
    "print(symbol_password(8))"
   ]
  },
  {
   "cell_type": "code",
   "execution_count": 6,
   "id": "ff787170",
   "metadata": {},
   "outputs": [],
   "source": [
    "pluto = create_password_generator('abcdef')"
   ]
  },
  {
   "cell_type": "code",
   "execution_count": 7,
   "id": "60b8a67f",
   "metadata": {},
   "outputs": [
    {
     "name": "stdout",
     "output_type": "stream",
     "text": [
      "bfbec\n"
     ]
    }
   ],
   "source": [
    "print(pluto(5))"
   ]
  },
  {
   "cell_type": "code",
   "execution_count": 8,
   "id": "447aa03b",
   "metadata": {},
   "outputs": [
    {
     "data": {
      "text/plain": [
       "function"
      ]
     },
     "execution_count": 8,
     "metadata": {},
     "output_type": "execute_result"
    }
   ],
   "source": [
    "type(pluto)"
   ]
  },
  {
   "cell_type": "code",
   "execution_count": 9,
   "id": "94ec9bd1",
   "metadata": {},
   "outputs": [
    {
     "data": {
      "text/plain": [
       "['__annotations__',\n",
       " '__builtins__',\n",
       " '__call__',\n",
       " '__class__',\n",
       " '__closure__',\n",
       " '__code__',\n",
       " '__defaults__',\n",
       " '__delattr__',\n",
       " '__dict__',\n",
       " '__dir__',\n",
       " '__doc__',\n",
       " '__eq__',\n",
       " '__format__',\n",
       " '__ge__',\n",
       " '__get__',\n",
       " '__getattribute__',\n",
       " '__getstate__',\n",
       " '__globals__',\n",
       " '__gt__',\n",
       " '__hash__',\n",
       " '__init__',\n",
       " '__init_subclass__',\n",
       " '__kwdefaults__',\n",
       " '__le__',\n",
       " '__lt__',\n",
       " '__module__',\n",
       " '__name__',\n",
       " '__ne__',\n",
       " '__new__',\n",
       " '__qualname__',\n",
       " '__reduce__',\n",
       " '__reduce_ex__',\n",
       " '__repr__',\n",
       " '__setattr__',\n",
       " '__sizeof__',\n",
       " '__str__',\n",
       " '__subclasshook__']"
      ]
     },
     "execution_count": 9,
     "metadata": {},
     "output_type": "execute_result"
    }
   ],
   "source": [
    "dir(pluto)"
   ]
  },
  {
   "cell_type": "code",
   "execution_count": null,
   "id": "14af21b7",
   "metadata": {},
   "outputs": [],
   "source": []
  }
 ],
 "metadata": {
  "kernelspec": {
   "display_name": "Python 3 (ipykernel)",
   "language": "python",
   "name": "python3"
  },
  "language_info": {
   "codemirror_mode": {
    "name": "ipython",
    "version": 3
   },
   "file_extension": ".py",
   "mimetype": "text/x-python",
   "name": "python",
   "nbconvert_exporter": "python",
   "pygments_lexer": "ipython3",
   "version": "3.11.1"
  }
 },
 "nbformat": 4,
 "nbformat_minor": 5
}

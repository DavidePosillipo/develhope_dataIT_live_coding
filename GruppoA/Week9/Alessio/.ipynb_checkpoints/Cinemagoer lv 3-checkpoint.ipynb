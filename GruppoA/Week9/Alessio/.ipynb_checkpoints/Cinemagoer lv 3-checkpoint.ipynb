{
 "cells": [
  {
   "cell_type": "markdown",
   "id": "754a25d5",
   "metadata": {},
   "source": [
    "# Level 3\n",
    "    funzione con parametro stringa\n",
    "    il parametro può essere:\n",
    "        1. il nome completo del film\n",
    "        oppure\n",
    "        2. una parte del nome\n",
    "    Nel secondo caso, la funzione cerca i film con quella stringa nel titolo e chiede all’utente di selezionare il film esatto:\n",
    "        a. chiedendo di inserire il nome completo \n",
    "        oppure\n",
    "        b. chiedendo di inserire l’id del film esatto"
   ]
  },
  {
   "cell_type": "code",
   "execution_count": 1,
   "id": "ace940ff",
   "metadata": {},
   "outputs": [],
   "source": [
    "from imdb import Cinemagoer"
   ]
  },
  {
   "cell_type": "code",
   "execution_count": 2,
   "id": "1b2d4073",
   "metadata": {},
   "outputs": [],
   "source": [
    "def f1(title):\n",
    "    my_movie = Cinemagoer().search_movie(title)\n",
    "    diz = {}\n",
    "    print('La ricerca ha prodotto i seguenti risultati:\\n')\n",
    "    print(my_movie)\n",
    "    codiceid=input(\"\\nInserire il codice ID del film interessato: \")\n",
    "    my_movie_id = Cinemagoer().get_movie(codiceid)\n",
    "    cast_list = my_movie_id['cast']\n",
    "    for i in cast_list:\n",
    "        try:\n",
    "            a = i['name']\n",
    "            b = i.currentRole['name']\n",
    "            diz.update({a:b})\n",
    "        except:\n",
    "            a = i['name']\n",
    "            b = i.currentRole[0]['name']\n",
    "            diz.update({a:b})\n",
    "    print('\\nIl film che hai cercato è ' + my_movie_id['title'].upper()) \n",
    "    return diz\n",
    "    "
   ]
  },
  {
   "cell_type": "code",
   "execution_count": 27,
   "id": "c20b08b4",
   "metadata": {},
   "outputs": [],
   "source": [
    "debug=Cinemagoer().get_movie('10838180')"
   ]
  },
  {
   "cell_type": "code",
   "execution_count": 28,
   "id": "461e5435",
   "metadata": {},
   "outputs": [
    {
     "data": {
      "text/plain": [
       "<Movie id:10838180[http] title:_The Matrix Resurrections (2021)_>"
      ]
     },
     "execution_count": 28,
     "metadata": {},
     "output_type": "execute_result"
    }
   ],
   "source": [
    "debug"
   ]
  },
  {
   "cell_type": "code",
   "execution_count": 35,
   "id": "0d830fab",
   "metadata": {},
   "outputs": [],
   "source": [
    "kr = debug['cast'][0]"
   ]
  },
  {
   "cell_type": "code",
   "execution_count": 36,
   "id": "2ed48312",
   "metadata": {},
   "outputs": [
    {
     "data": {
      "text/plain": [
       "<Person id:0000206[http] name:_Keanu Reeves_>"
      ]
     },
     "execution_count": 36,
     "metadata": {},
     "output_type": "execute_result"
    }
   ],
   "source": [
    "kr"
   ]
  },
  {
   "cell_type": "code",
   "execution_count": 47,
   "id": "d7444502",
   "metadata": {},
   "outputs": [
    {
     "data": {
      "text/plain": [
       "<Character id:None[http] name:_Thomas Anderson_>"
      ]
     },
     "execution_count": 47,
     "metadata": {},
     "output_type": "execute_result"
    }
   ],
   "source": [
    "kr.currentRole[1]"
   ]
  },
  {
   "cell_type": "code",
   "execution_count": 71,
   "id": "5b8e7039",
   "metadata": {},
   "outputs": [],
   "source": [
    "x = [{i['name']:i.currentRole} for i in debug['cast']]"
   ]
  },
  {
   "cell_type": "code",
   "execution_count": 81,
   "id": "9de018f2",
   "metadata": {},
   "outputs": [
    {
     "data": {
      "text/plain": [
       "'Neo'"
      ]
     },
     "execution_count": 81,
     "metadata": {},
     "output_type": "execute_result"
    }
   ],
   "source": [
    "x[0]['Keanu Reeves'][0]['name']"
   ]
  },
  {
   "cell_type": "code",
   "execution_count": 3,
   "id": "5a210e46",
   "metadata": {},
   "outputs": [
    {
     "name": "stdout",
     "output_type": "stream",
     "text": [
      "La ricerca ha prodotto i seguenti risultati:\n",
      "\n",
      "[<Movie id:0133093[http] title:_The Matrix (1999)_>, <Movie id:10838180[http] title:_The Matrix Resurrections (2021)_>, <Movie id:0234215[http] title:_The Matrix Reloaded (2003)_>, <Movie id:0242653[http] title:_The Matrix Revolutions (2003)_>, <Movie id:0106062[http] title:_\"Matrix\" (1993)_>, <Movie id:9847360[http] title:_A Glitch in the Matrix (2021)_>, <Movie id:11749868[http] title:_Matrix (2020)_>, <Movie id:0365467[http] title:_Making 'The Matrix' (1999) (TV)_>, <Movie id:0410519[http] title:_The Matrix Recalibrated (2004) (V)_>, <Movie id:0364888[http] title:_\"Threat Matrix\" (2004) (2003)_>, <Movie id:2579522[http] title:_Escape the Matrix (2012) (V)_>, <Movie id:5968306[http] title:_Matrix I (1971)_>, <Movie id:0109151[http] title:_Armitage III: Polymatrix (1996) (V)_>, <Movie id:0274085[http] title:_Sex and the Matrix (2000)_>, <Movie id:0295432[http] title:_The Matrix Revisited (2001) (V)_>, <Movie id:0211096[http] title:_V-World Matrix (1999) (V)_>, <Movie id:0303678[http] title:_Armitage III: Dual Matrix (2002) (V)_>, <Movie id:1499960[http] title:_The Living Matrix (2009)_>, <Movie id:13285880[http] title:_\"A glitch in the Matrix\" (2021) (mini)_>, <Movie id:9851526[http] title:_The Matrix (2004)_>]\n",
      "\n",
      "Inserire il codice ID del film interessato: 10838180\n"
     ]
    },
    {
     "ename": "KeyError",
     "evalue": "0",
     "output_type": "error",
     "traceback": [
      "\u001b[1;31m---------------------------------------------------------------------------\u001b[0m",
      "\u001b[1;31mKeyError\u001b[0m                                  Traceback (most recent call last)",
      "Cell \u001b[1;32mIn[2], line 12\u001b[0m, in \u001b[0;36mf1\u001b[1;34m(title)\u001b[0m\n\u001b[0;32m     11\u001b[0m a \u001b[38;5;241m=\u001b[39m i[\u001b[38;5;124m'\u001b[39m\u001b[38;5;124mname\u001b[39m\u001b[38;5;124m'\u001b[39m]\n\u001b[1;32m---> 12\u001b[0m b \u001b[38;5;241m=\u001b[39m \u001b[43mi\u001b[49m\u001b[38;5;241;43m.\u001b[39;49m\u001b[43mcurrentRole\u001b[49m\u001b[43m[\u001b[49m\u001b[38;5;124;43m'\u001b[39;49m\u001b[38;5;124;43mname\u001b[39;49m\u001b[38;5;124;43m'\u001b[39;49m\u001b[43m]\u001b[49m\n\u001b[0;32m     13\u001b[0m diz\u001b[38;5;241m.\u001b[39mupdate({a:b})\n",
      "File \u001b[1;32m~\\AppData\\Local\\Programs\\Python\\Python311\\Lib\\site-packages\\imdb\\utils.py:1503\u001b[0m, in \u001b[0;36m_Container.__getitem__\u001b[1;34m(self, key)\u001b[0m\n\u001b[0;32m   1502\u001b[0m \u001b[38;5;28;01melse\u001b[39;00m:\n\u001b[1;32m-> 1503\u001b[0m     rawData \u001b[38;5;241m=\u001b[39m \u001b[38;5;28;43mself\u001b[39;49m\u001b[38;5;241;43m.\u001b[39;49m\u001b[43mdata\u001b[49m\u001b[43m[\u001b[49m\u001b[43mkey\u001b[49m\u001b[43m]\u001b[49m\n\u001b[0;32m   1504\u001b[0m \u001b[38;5;28;01mif\u001b[39;00m key \u001b[38;5;129;01min\u001b[39;00m \u001b[38;5;28mself\u001b[39m\u001b[38;5;241m.\u001b[39mkeys_tomodify \u001b[38;5;129;01mand\u001b[39;00m \\\n\u001b[0;32m   1505\u001b[0m         \u001b[38;5;28mself\u001b[39m\u001b[38;5;241m.\u001b[39mmodFunct \u001b[38;5;129;01mnot\u001b[39;00m \u001b[38;5;129;01min\u001b[39;00m (\u001b[38;5;28;01mNone\u001b[39;00m, modNull):\n",
      "\u001b[1;31mKeyError\u001b[0m: 'name'",
      "\nDuring handling of the above exception, another exception occurred:\n",
      "\u001b[1;31mKeyError\u001b[0m                                  Traceback (most recent call last)",
      "Cell \u001b[1;32mIn[3], line 1\u001b[0m\n\u001b[1;32m----> 1\u001b[0m \u001b[43mf1\u001b[49m\u001b[43m(\u001b[49m\u001b[38;5;124;43m'\u001b[39;49m\u001b[38;5;124;43mMatrix\u001b[39;49m\u001b[38;5;124;43m'\u001b[39;49m\u001b[43m)\u001b[49m\n",
      "Cell \u001b[1;32mIn[2], line 16\u001b[0m, in \u001b[0;36mf1\u001b[1;34m(title)\u001b[0m\n\u001b[0;32m     14\u001b[0m     \u001b[38;5;28;01mexcept\u001b[39;00m:\n\u001b[0;32m     15\u001b[0m         a \u001b[38;5;241m=\u001b[39m i[\u001b[38;5;124m'\u001b[39m\u001b[38;5;124mname\u001b[39m\u001b[38;5;124m'\u001b[39m]\n\u001b[1;32m---> 16\u001b[0m         b \u001b[38;5;241m=\u001b[39m \u001b[43mi\u001b[49m\u001b[38;5;241;43m.\u001b[39;49m\u001b[43mcurrentRole\u001b[49m\u001b[43m[\u001b[49m\u001b[38;5;241;43m0\u001b[39;49m\u001b[43m]\u001b[49m[\u001b[38;5;124m'\u001b[39m\u001b[38;5;124mname\u001b[39m\u001b[38;5;124m'\u001b[39m]\n\u001b[0;32m     17\u001b[0m         diz\u001b[38;5;241m.\u001b[39mupdate({a:b})\n\u001b[0;32m     18\u001b[0m \u001b[38;5;28mprint\u001b[39m(\u001b[38;5;124m'\u001b[39m\u001b[38;5;130;01m\\n\u001b[39;00m\u001b[38;5;124mIl film che hai cercato è \u001b[39m\u001b[38;5;124m'\u001b[39m \u001b[38;5;241m+\u001b[39m my_movie_id[\u001b[38;5;124m'\u001b[39m\u001b[38;5;124mtitle\u001b[39m\u001b[38;5;124m'\u001b[39m]\u001b[38;5;241m.\u001b[39mupper()) \n",
      "File \u001b[1;32m~\\AppData\\Local\\Programs\\Python\\Python311\\Lib\\site-packages\\imdb\\utils.py:1503\u001b[0m, in \u001b[0;36m_Container.__getitem__\u001b[1;34m(self, key)\u001b[0m\n\u001b[0;32m   1501\u001b[0m     rawData \u001b[38;5;241m=\u001b[39m \u001b[38;5;28mself\u001b[39m\u001b[38;5;241m.\u001b[39mdata[\u001b[38;5;28mself\u001b[39m\u001b[38;5;241m.\u001b[39mkeys_alias[key]]\n\u001b[0;32m   1502\u001b[0m \u001b[38;5;28;01melse\u001b[39;00m:\n\u001b[1;32m-> 1503\u001b[0m     rawData \u001b[38;5;241m=\u001b[39m \u001b[38;5;28;43mself\u001b[39;49m\u001b[38;5;241;43m.\u001b[39;49m\u001b[43mdata\u001b[49m\u001b[43m[\u001b[49m\u001b[43mkey\u001b[49m\u001b[43m]\u001b[49m\n\u001b[0;32m   1504\u001b[0m \u001b[38;5;28;01mif\u001b[39;00m key \u001b[38;5;129;01min\u001b[39;00m \u001b[38;5;28mself\u001b[39m\u001b[38;5;241m.\u001b[39mkeys_tomodify \u001b[38;5;129;01mand\u001b[39;00m \\\n\u001b[0;32m   1505\u001b[0m         \u001b[38;5;28mself\u001b[39m\u001b[38;5;241m.\u001b[39mmodFunct \u001b[38;5;129;01mnot\u001b[39;00m \u001b[38;5;129;01min\u001b[39;00m (\u001b[38;5;28;01mNone\u001b[39;00m, modNull):\n\u001b[0;32m   1506\u001b[0m     \u001b[38;5;28;01mtry\u001b[39;00m:\n",
      "\u001b[1;31mKeyError\u001b[0m: 0"
     ]
    }
   ],
   "source": [
    "f1('Matrix')"
   ]
  },
  {
   "cell_type": "code",
   "execution_count": null,
   "id": "c42e3c2b",
   "metadata": {},
   "outputs": [],
   "source": []
  }
 ],
 "metadata": {
  "kernelspec": {
   "display_name": "Python 3 (ipykernel)",
   "language": "python",
   "name": "python3"
  },
  "language_info": {
   "codemirror_mode": {
    "name": "ipython",
    "version": 3
   },
   "file_extension": ".py",
   "mimetype": "text/x-python",
   "name": "python",
   "nbconvert_exporter": "python",
   "pygments_lexer": "ipython3",
   "version": "3.11.1"
  }
 },
 "nbformat": 4,
 "nbformat_minor": 5
}

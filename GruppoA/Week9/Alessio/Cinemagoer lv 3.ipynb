{
 "cells": [
  {
   "cell_type": "markdown",
   "id": "754a25d5",
   "metadata": {},
   "source": [
    "# Level 3\n",
    "    funzione con parametro stringa\n",
    "    il parametro può essere:\n",
    "        1. il nome completo del film\n",
    "        oppure\n",
    "        2. una parte del nome\n",
    "    Nel secondo caso, la funzione cerca i film con quella stringa nel titolo e chiede all’utente di selezionare il film esatto:\n",
    "        a. chiedendo di inserire il nome completo \n",
    "        oppure\n",
    "        b. chiedendo di inserire l’id del film esatto"
   ]
  },
  {
   "cell_type": "code",
   "execution_count": 1,
   "id": "ace940ff",
   "metadata": {},
   "outputs": [],
   "source": [
    "from imdb import Cinemagoer"
   ]
  },
  {
   "cell_type": "code",
   "execution_count": 22,
   "id": "1b2d4073",
   "metadata": {},
   "outputs": [
    {
     "ename": "SyntaxError",
     "evalue": "default 'except:' must be last (2571789841.py, line 14)",
     "output_type": "error",
     "traceback": [
      "\u001b[1;36m  Cell \u001b[1;32mIn[22], line 14\u001b[1;36m\u001b[0m\n\u001b[1;33m    except:\u001b[0m\n\u001b[1;37m    ^\u001b[0m\n\u001b[1;31mSyntaxError\u001b[0m\u001b[1;31m:\u001b[0m default 'except:' must be last\n"
     ]
    }
   ],
   "source": [
    "def f1(title):\n",
    "    my_movie = Cinemagoer().search_movie(title)\n",
    "    diz = {}\n",
    "    print('La ricerca ha prodotto i seguenti risultati:\\n')\n",
    "    print(my_movie)\n",
    "    codiceid=input(\"\\nInserire il codice ID del film interessato: \")\n",
    "    my_movie_id = Cinemagoer().get_movie(codiceid)\n",
    "    cast_list = my_movie_id['cast']\n",
    "    for i in cast_list:\n",
    "        try:\n",
    "            a = i['name']\n",
    "            b = i.currentRole['name']\n",
    "            diz.update({a:b})\n",
    "        except:\n",
    "            a = i['name']\n",
    "            b = i.currentRole[0]['name']\n",
    "            diz.update({a:b})\n",
    "    print('\\nIl film che hai cercato è ' + my_movie_id['title'].upper()) \n",
    "    return diz\n",
    "    "
   ]
  },
  {
   "cell_type": "code",
   "execution_count": 27,
   "id": "c20b08b4",
   "metadata": {},
   "outputs": [],
   "source": [
    "debug=Cinemagoer().get_movie('10838180')"
   ]
  },
  {
   "cell_type": "code",
   "execution_count": 28,
   "id": "461e5435",
   "metadata": {},
   "outputs": [
    {
     "data": {
      "text/plain": [
       "<Movie id:10838180[http] title:_The Matrix Resurrections (2021)_>"
      ]
     },
     "execution_count": 28,
     "metadata": {},
     "output_type": "execute_result"
    }
   ],
   "source": [
    "debug"
   ]
  },
  {
   "cell_type": "code",
   "execution_count": 35,
   "id": "0d830fab",
   "metadata": {},
   "outputs": [],
   "source": [
    "kr = debug['cast'][0]"
   ]
  },
  {
   "cell_type": "code",
   "execution_count": 36,
   "id": "2ed48312",
   "metadata": {},
   "outputs": [
    {
     "data": {
      "text/plain": [
       "<Person id:0000206[http] name:_Keanu Reeves_>"
      ]
     },
     "execution_count": 36,
     "metadata": {},
     "output_type": "execute_result"
    }
   ],
   "source": [
    "kr"
   ]
  },
  {
   "cell_type": "code",
   "execution_count": 47,
   "id": "d7444502",
   "metadata": {},
   "outputs": [
    {
     "data": {
      "text/plain": [
       "<Character id:None[http] name:_Thomas Anderson_>"
      ]
     },
     "execution_count": 47,
     "metadata": {},
     "output_type": "execute_result"
    }
   ],
   "source": [
    "kr.currentRole[1]"
   ]
  },
  {
   "cell_type": "code",
   "execution_count": 71,
   "id": "5b8e7039",
   "metadata": {},
   "outputs": [],
   "source": [
    "x = [{i['name']:i.currentRole} for i in debug['cast']]"
   ]
  },
  {
   "cell_type": "code",
   "execution_count": 81,
   "id": "9de018f2",
   "metadata": {},
   "outputs": [
    {
     "data": {
      "text/plain": [
       "'Neo'"
      ]
     },
     "execution_count": 81,
     "metadata": {},
     "output_type": "execute_result"
    }
   ],
   "source": [
    "x[0]['Keanu Reeves'][0]['name']"
   ]
  },
  {
   "cell_type": "code",
   "execution_count": null,
   "id": "5a210e46",
   "metadata": {},
   "outputs": [],
   "source": []
  }
 ],
 "metadata": {
  "kernelspec": {
   "display_name": "Python 3 (ipykernel)",
   "language": "python",
   "name": "python3"
  },
  "language_info": {
   "codemirror_mode": {
    "name": "ipython",
    "version": 3
   },
   "file_extension": ".py",
   "mimetype": "text/x-python",
   "name": "python",
   "nbconvert_exporter": "python",
   "pygments_lexer": "ipython3",
   "version": "3.11.1"
  }
 },
 "nbformat": 4,
 "nbformat_minor": 5
}

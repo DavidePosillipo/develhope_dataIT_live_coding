{
 "cells": [
  {
   "cell_type": "markdown",
   "id": "754a25d5",
   "metadata": {},
   "source": [
    "# Level 3\n",
    "    funzione con parametro stringa\n",
    "    il parametro può essere:\n",
    "        1. il nome completo del film\n",
    "        oppure\n",
    "        2. una parte del nome\n",
    "    Nel secondo caso, la funzione cerca i film con quella stringa nel titolo e chiede all’utente di selezionare il film esatto:\n",
    "        a. chiedendo di inserire il nome completo \n",
    "        oppure\n",
    "        b. chiedendo di inserire l’id del film esatto"
   ]
  },
  {
   "cell_type": "code",
   "execution_count": 2,
   "id": "ace940ff",
   "metadata": {},
   "outputs": [],
   "source": [
    "from imdb import Cinemagoer"
   ]
  },
  {
   "cell_type": "code",
   "execution_count": 17,
   "id": "1b2d4073",
   "metadata": {},
   "outputs": [],
   "source": [
    "def f1(title):\n",
    "    my_movie = Cinemagoer().search_movie(title)\n",
    "    diz = {}\n",
    "    print('La ricerca ha prodotto i seguenti risultati:\\n')\n",
    "    print(my_movie)\n",
    "    codiceid=input(\"\\nInserire il codice ID del film interessato: \")\n",
    "    my_movie_id = Cinemagoer().get_movie(codiceid)\n",
    "    for i in my_movie_id['cast']:\n",
    "        try:\n",
    "            a = i.currentRole[0] if isinstance (i.currentRole, list) else i.currentRole\n",
    "            diz.update({i['name']:a['name']})\n",
    "            # oppure diz[i['name']] = a.data['name'] \n",
    "        except KeyError:\n",
    "            diz[i['name']] = \"N.A.\"\n",
    "    print('\\nIl film che hai cercato è ' + my_movie_id['title'].upper()) \n",
    "    return diz"
   ]
  },
  {
   "cell_type": "code",
   "execution_count": 21,
   "id": "5a210e46",
   "metadata": {},
   "outputs": [
    {
     "name": "stdout",
     "output_type": "stream",
     "text": [
      "La ricerca ha prodotto i seguenti risultati:\n",
      "\n",
      "[<Movie id:0133093[http] title:_The Matrix (1999)_>, <Movie id:10838180[http] title:_The Matrix Resurrections (2021)_>, <Movie id:0234215[http] title:_The Matrix Reloaded (2003)_>, <Movie id:0242653[http] title:_The Matrix Revolutions (2003)_>, <Movie id:0106062[http] title:_\"Matrix\" (1993)_>, <Movie id:9847360[http] title:_A Glitch in the Matrix (2021)_>, <Movie id:11749868[http] title:_Matrix (2020)_>, <Movie id:0365467[http] title:_Making 'The Matrix' (1999) (TV)_>, <Movie id:0410519[http] title:_The Matrix Recalibrated (2004) (V)_>, <Movie id:0364888[http] title:_\"Threat Matrix\" (2004) (2003)_>, <Movie id:2579522[http] title:_Escape the Matrix (2012) (V)_>, <Movie id:5968306[http] title:_Matrix I (1971)_>, <Movie id:0109151[http] title:_Armitage III: Polymatrix (1996) (V)_>, <Movie id:0274085[http] title:_Sex and the Matrix (2000)_>, <Movie id:0295432[http] title:_The Matrix Revisited (2001) (V)_>, <Movie id:0211096[http] title:_V-World Matrix (1999) (V)_>, <Movie id:0303678[http] title:_Armitage III: Dual Matrix (2002) (V)_>, <Movie id:1499960[http] title:_The Living Matrix (2009)_>, <Movie id:13285880[http] title:_\"A glitch in the Matrix\" (2021) (mini)_>, <Movie id:9851526[http] title:_The Matrix (2004)_>]\n",
      "\n",
      "Inserire il codice ID del film interessato: 0060028\n",
      "\n",
      "Il film che hai cercato è STAR TREK\n"
     ]
    },
    {
     "data": {
      "text/plain": [
       "{'Leonard Nimoy': 'Mister Spock',\n",
       " 'William Shatner': \"Captain James Tiberius 'Jim' Kirk\",\n",
       " 'DeForest Kelley': \"Doctor Leonard 'Bones' McCoy\",\n",
       " 'Nichelle Nichols': 'Lieutenant Nyota Uhura',\n",
       " 'James Doohan': \"Lieutenant Commander Montgomery 'Scotty' Scott\",\n",
       " 'Eddie Paskey': 'Lieutenant Leslie',\n",
       " 'George Takei': 'Lieutenant Hikaru Sulu',\n",
       " 'Walter Koenig': 'Ensign Pavel Chekov',\n",
       " 'Majel Barrett': 'Nurse Christine Chapel',\n",
       " 'John Winston': 'Lieutenant Kyle',\n",
       " 'Paul Baxley': '1st Cowboy',\n",
       " 'David L. Ross': 'Galloway',\n",
       " 'Jay D. Jones': 'Engineer',\n",
       " 'Grace Lee Whitney': 'Yeoman Janice Rand',\n",
       " 'Sean Morgan': 'Brenner',\n",
       " 'Bart La Rue': 'Announcer',\n",
       " 'Barbara Babcock': 'Beta 5 Computer',\n",
       " 'Dick Geary': 'Security Guard',\n",
       " 'Ed McCready': 'Barber',\n",
       " 'John Arndt': 'Ingenieur Fields',\n",
       " 'Louie Elias': '1st Technician',\n",
       " 'Sean Kenney': 'Christopher Pike',\n",
       " 'Vic Perrin': 'Metron',\n",
       " 'Vince Deadrick Sr.': 'Engineer',\n",
       " 'Janos Prohaska': 'Anthropoid Ape',\n",
       " 'Grant Woods': 'Kelowitz',\n",
       " 'Michael Barrier': 'DeSalle',\n",
       " 'Barbara Baldavin': 'Angela',\n",
       " 'Jim Goodwin': 'Farrell',\n",
       " 'Hagan Beggs': 'Lt. Hansen',\n",
       " 'Malachi Throne': 'Commodore José Mendez',\n",
       " 'Jon Lormer': 'Dr. Theodore Haskins',\n",
       " 'Naomi Newman': 'Indian Woman',\n",
       " 'Jerry Catron': 'Montgomery',\n",
       " 'Ted Cassidy': \"Balok's Puppet\",\n",
       " 'Walt Davis': 'Klingon Soldier',\n",
       " 'George Sawaya': 'Chief Humboldt',\n",
       " 'John Lindesmith': 'Engineer',\n",
       " 'Pete Kellett': \"Kirk's Henchman\",\n",
       " 'Bob Bralver': 'Berserk Engineer',\n",
       " 'Roger C. Carmel': 'Harry Mudd',\n",
       " 'Mark Lenard': 'Romulan Commander',\n",
       " 'William Campbell': 'Koloth',\n",
       " 'Diana Muldaur': 'Dr. Ann Mulhall',\n",
       " 'Morgan Woodward': 'Capt. Tracey',\n",
       " 'Skip Homeier': 'Melakon',\n",
       " 'Lawrence Montaigne': 'Decius',\n",
       " 'Ian Wolfe': 'Mr. Atoz',\n",
       " 'Stewart Moss': 'Hanar',\n",
       " 'Charles Macaulay': 'Jaris'}"
      ]
     },
     "execution_count": 21,
     "metadata": {},
     "output_type": "execute_result"
    }
   ],
   "source": [
    "f1('matrix')"
   ]
  },
  {
   "cell_type": "code",
   "execution_count": null,
   "id": "6b5c0364",
   "metadata": {},
   "outputs": [],
   "source": []
  }
 ],
 "metadata": {
  "kernelspec": {
   "display_name": "Python 3 (ipykernel)",
   "language": "python",
   "name": "python3"
  },
  "language_info": {
   "codemirror_mode": {
    "name": "ipython",
    "version": 3
   },
   "file_extension": ".py",
   "mimetype": "text/x-python",
   "name": "python",
   "nbconvert_exporter": "python",
   "pygments_lexer": "ipython3",
   "version": "3.11.1"
  }
 },
 "nbformat": 4,
 "nbformat_minor": 5
}

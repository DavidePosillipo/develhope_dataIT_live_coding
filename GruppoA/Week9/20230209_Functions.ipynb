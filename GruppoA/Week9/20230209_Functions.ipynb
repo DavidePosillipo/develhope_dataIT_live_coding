{
 "cells": [
  {
   "cell_type": "markdown",
   "id": "72ebd7f9",
   "metadata": {},
   "source": [
    "## Funzioni"
   ]
  },
  {
   "cell_type": "code",
   "execution_count": 11,
   "id": "b23f37cb",
   "metadata": {},
   "outputs": [],
   "source": [
    "def nome_funzione():\n",
    "    #istruzioni da eseguire\n",
    "    pass"
   ]
  },
  {
   "cell_type": "code",
   "execution_count": 12,
   "id": "6a3a31e0",
   "metadata": {},
   "outputs": [],
   "source": [
    "nome_funzione()"
   ]
  },
  {
   "cell_type": "code",
   "execution_count": 18,
   "id": "95ddf5ac",
   "metadata": {},
   "outputs": [],
   "source": [
    "# Parametri di una funzione\n",
    "def f1(parametro1, parametro2):\n",
    "    #istruizioni \n",
    "    pass"
   ]
  },
  {
   "cell_type": "code",
   "execution_count": 19,
   "id": "a951eabf",
   "metadata": {},
   "outputs": [],
   "source": [
    "# data types di input e intero\n",
    "def f2(par1: str, par2: int) -> int:\n",
    "    return par1"
   ]
  },
  {
   "cell_type": "code",
   "execution_count": 20,
   "id": "4fea71d0",
   "metadata": {},
   "outputs": [
    {
     "data": {
      "text/plain": [
       "'a'"
      ]
     },
     "execution_count": 20,
     "metadata": {},
     "output_type": "execute_result"
    }
   ],
   "source": [
    "f2(\"a\", 2)"
   ]
  },
  {
   "cell_type": "code",
   "execution_count": 21,
   "id": "2831b602",
   "metadata": {},
   "outputs": [
    {
     "data": {
      "text/plain": [
       "2"
      ]
     },
     "execution_count": 21,
     "metadata": {},
     "output_type": "execute_result"
    }
   ],
   "source": [
    "f2(2, \"a\")"
   ]
  },
  {
   "cell_type": "code",
   "execution_count": 22,
   "id": "d4e3a1a2",
   "metadata": {},
   "outputs": [],
   "source": [
    "# default\n",
    "def f3(par1: str = \"a\"):\n",
    "    return par1"
   ]
  },
  {
   "cell_type": "code",
   "execution_count": 23,
   "id": "db00ebd1",
   "metadata": {},
   "outputs": [
    {
     "data": {
      "text/plain": [
       "'a'"
      ]
     },
     "execution_count": 23,
     "metadata": {},
     "output_type": "execute_result"
    }
   ],
   "source": [
    "f3()"
   ]
  },
  {
   "cell_type": "code",
   "execution_count": 25,
   "id": "86b93ad0",
   "metadata": {},
   "outputs": [
    {
     "data": {
      "text/plain": [
       "200"
      ]
     },
     "execution_count": 25,
     "metadata": {},
     "output_type": "execute_result"
    }
   ],
   "source": [
    "f3(200)"
   ]
  },
  {
   "cell_type": "code",
   "execution_count": 26,
   "id": "8a11f454",
   "metadata": {},
   "outputs": [
    {
     "ename": "SyntaxError",
     "evalue": "non-default argument follows default argument (3200973836.py, line 1)",
     "output_type": "error",
     "traceback": [
      "\u001b[0;36m  File \u001b[0;32m\"/var/folders/b1/3kx90hls3vb6pt3yflbcnlh40000gn/T/ipykernel_34662/3200973836.py\"\u001b[0;36m, line \u001b[0;32m1\u001b[0m\n\u001b[0;31m    def f4(par1=1, par2):\u001b[0m\n\u001b[0m                   ^\u001b[0m\n\u001b[0;31mSyntaxError\u001b[0m\u001b[0;31m:\u001b[0m non-default argument follows default argument\n"
     ]
    }
   ],
   "source": [
    "def f4(par1=1, par2):\n",
    "    return par1+par2"
   ]
  },
  {
   "cell_type": "code",
   "execution_count": 27,
   "id": "46fd5dad",
   "metadata": {},
   "outputs": [],
   "source": [
    "def f4(par1, par2=2):\n",
    "    return par1+par2"
   ]
  },
  {
   "cell_type": "code",
   "execution_count": 30,
   "id": "2baff81f",
   "metadata": {},
   "outputs": [],
   "source": [
    "# multi-output\n",
    "def multi_output(a):\n",
    "    output = a**2\n",
    "    return a, output"
   ]
  },
  {
   "cell_type": "code",
   "execution_count": 31,
   "id": "8caf034d",
   "metadata": {},
   "outputs": [
    {
     "data": {
      "text/plain": [
       "(5, 25)"
      ]
     },
     "execution_count": 31,
     "metadata": {},
     "output_type": "execute_result"
    }
   ],
   "source": [
    "multi_output(5)"
   ]
  },
  {
   "cell_type": "code",
   "execution_count": 32,
   "id": "d555b115",
   "metadata": {},
   "outputs": [],
   "source": [
    "out1, out2 = multi_output(5)"
   ]
  },
  {
   "cell_type": "code",
   "execution_count": 33,
   "id": "02cf253d",
   "metadata": {},
   "outputs": [
    {
     "name": "stdout",
     "output_type": "stream",
     "text": [
      "5 and  25\n"
     ]
    }
   ],
   "source": [
    "print(out1, \"and \", out2)"
   ]
  },
  {
   "cell_type": "code",
   "execution_count": 34,
   "id": "3c40bf59",
   "metadata": {},
   "outputs": [],
   "source": [
    "_, out2 = multi_output(5)"
   ]
  },
  {
   "cell_type": "code",
   "execution_count": 35,
   "id": "b0a86899",
   "metadata": {},
   "outputs": [
    {
     "data": {
      "text/plain": [
       "25"
      ]
     },
     "execution_count": 35,
     "metadata": {},
     "output_type": "execute_result"
    }
   ],
   "source": [
    "out2"
   ]
  },
  {
   "cell_type": "code",
   "execution_count": 36,
   "id": "201caf30",
   "metadata": {},
   "outputs": [],
   "source": [
    "out2 = multi_output(5)"
   ]
  },
  {
   "cell_type": "code",
   "execution_count": 37,
   "id": "86aec4a7",
   "metadata": {},
   "outputs": [
    {
     "data": {
      "text/plain": [
       "(5, 25)"
      ]
     },
     "execution_count": 37,
     "metadata": {},
     "output_type": "execute_result"
    }
   ],
   "source": [
    "out2"
   ]
  },
  {
   "cell_type": "markdown",
   "id": "a5b46df6",
   "metadata": {},
   "source": [
    "### Funzioni che restituiscono funzioni"
   ]
  },
  {
   "cell_type": "markdown",
   "id": "f31e21b3",
   "metadata": {},
   "source": [
    "Paradigmi di programmazione:\n",
    "- OOP (Object Oriented Programming)\n",
    "- Functional Programming"
   ]
  },
  {
   "cell_type": "code",
   "execution_count": 58,
   "id": "4ee36a7f",
   "metadata": {},
   "outputs": [],
   "source": [
    "def create_function(list_input, n):\n",
    "    \n",
    "    def inner_function():\n",
    "        list_input.append(n)\n",
    "        return list_input\n",
    "    \n",
    "    return inner_function\n",
    "        "
   ]
  },
  {
   "cell_type": "code",
   "execution_count": 59,
   "id": "f3cc2741",
   "metadata": {},
   "outputs": [
    {
     "data": {
      "text/plain": [
       "<function __main__.create_function.<locals>.inner_function()>"
      ]
     },
     "execution_count": 59,
     "metadata": {},
     "output_type": "execute_result"
    }
   ],
   "source": [
    "create_function([1, 2, 3, 4], 5)"
   ]
  },
  {
   "cell_type": "code",
   "execution_count": 60,
   "id": "3bf28547",
   "metadata": {},
   "outputs": [],
   "source": [
    "f_inner = create_function([1, 2, 3, 4], 5)"
   ]
  },
  {
   "cell_type": "code",
   "execution_count": 61,
   "id": "36750a04",
   "metadata": {},
   "outputs": [
    {
     "data": {
      "text/plain": [
       "[1, 2, 3, 4, 5]"
      ]
     },
     "execution_count": 61,
     "metadata": {},
     "output_type": "execute_result"
    }
   ],
   "source": [
    "f_inner()"
   ]
  },
  {
   "cell_type": "markdown",
   "id": "dc8d2c1f",
   "metadata": {},
   "source": [
    "## Esercizio per casa"
   ]
  },
  {
   "cell_type": "markdown",
   "id": "cab25b5d",
   "metadata": {},
   "source": [
    "\n",
    "In this exercise, we’re going to create a password-generation function. Actually, we’re going to create a factory for password-generation functions. That is, I might need to generate a large number of passwords, all of which use the same set of charac- ters. (You know how it is. Some applications require a mix of capital letters, lowercase letters, numbers, and symbols; whereas others require that you only use letters; and still others allow both letters and digits.) You’ll thus call the function create_password_generator with a string. That string will return a function, which itself takes an integer argument. Calling this function will return a password of the specified length, using the string from which it was created; "
   ]
  },
  {
   "cell_type": "markdown",
   "id": "6d53cda9",
   "metadata": {},
   "source": [
    "alpha_password = create_password_generator('abcdef') \n",
    "symbol_password = create_password_generator('!@#$%')\n",
    "print(alpha_password(5)) # efeaa\n",
    "print(alpha_password(10)) # cacdacbada\n",
    "print(symbol_password(5)) # @!%%$\n",
    "print(symbol_password(10))  # @!%%$%$%%#"
   ]
  },
  {
   "cell_type": "code",
   "execution_count": 63,
   "id": "c7491541",
   "metadata": {},
   "outputs": [],
   "source": [
    "import random"
   ]
  },
  {
   "cell_type": "code",
   "execution_count": 71,
   "id": "a076be83",
   "metadata": {},
   "outputs": [
    {
     "data": {
      "text/plain": [
       "'c'"
      ]
     },
     "execution_count": 71,
     "metadata": {},
     "output_type": "execute_result"
    }
   ],
   "source": [
    "random.choice(\"abcdef\")"
   ]
  },
  {
   "cell_type": "code",
   "execution_count": null,
   "id": "7e983fab",
   "metadata": {},
   "outputs": [],
   "source": []
  }
 ],
 "metadata": {
  "kernelspec": {
   "display_name": "Python 3 (ipykernel)",
   "language": "python",
   "name": "python3"
  },
  "language_info": {
   "codemirror_mode": {
    "name": "ipython",
    "version": 3
   },
   "file_extension": ".py",
   "mimetype": "text/x-python",
   "name": "python",
   "nbconvert_exporter": "python",
   "pygments_lexer": "ipython3",
   "version": "3.10.9"
  }
 },
 "nbformat": 4,
 "nbformat_minor": 5
}

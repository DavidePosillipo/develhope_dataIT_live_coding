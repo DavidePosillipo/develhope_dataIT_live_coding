{
 "cells": [
  {
   "cell_type": "code",
   "execution_count": 1,
   "id": "9665b318",
   "metadata": {},
   "outputs": [],
   "source": [
    "import numpy as np"
   ]
  },
  {
   "cell_type": "markdown",
   "id": "c68763a3",
   "metadata": {},
   "source": [
    "1. Let `x` and `y` be two vectors of the same length, $n$.\n",
    "Compute [the Pearson linear correlation coefficient](https://en.wikipedia.org/wiki/Pearson_correlation_coefficient),\n",
    "given by:\n",
    "$$\n",
    "r(\\mathbf{x},\\mathbf{y}) =  \\frac{1}{n-1} \\sum_{i=1}^n\n",
    "   \\frac{x_i - \\bar{x}}{s_{x}}\n",
    "\\,\n",
    "   \\frac{y_i - \\bar{y}}{s_{y}}.\n",
    "$$\n",
    "\n",
    "\n",
    "2. Let `x` and `y` be two vectors of the same length, $n$.\n",
    "Compute [the Spearman rank correlation coefficient](https://en.wikipedia.org/wiki/Spearman%27s_rank_correlation_coefficient),\n",
    "given by:\n",
    "$$\n",
    "\\varrho(\\mathbf{x},\\mathbf{y})\n",
    "=\n",
    "1-\\frac{6 \\sum_{i=1}^n d_i^2}{n (n^2-1)},\n",
    "$$\n",
    "where $d_i=R(\\mathbf{x})_i-R(\\mathbf{y})_i$, $i=1,\\dots,n$,\n",
    "and $R(\\mathbf{x})_i$ denotes the rank of $x_i$ in `x`.\n",
    "\n",
    "3. Given a matrix with $n$ rows and $m$ columns (e.g., the first 4 rows\n",
    "from the `iris` dataset), compute the correlation matrix, i.e.,\n",
    "an $m\\times m$ matrix $\\mathbf{C}$ with $c_{i,j}$ denoting\n",
    "the Pearson coefficient for the $i$-th and the $j$-th column."
   ]
  },
  {
   "cell_type": "code",
   "execution_count": 2,
   "id": "fad2965e",
   "metadata": {},
   "outputs": [
    {
     "data": {
      "text/plain": [
       "array([-0.31,  0.73,  0.22, -0.9 , -2.49,  0.91,  1.13, -1.51,  1.64,\n",
       "       -0.43,  2.63,  0.6 , -0.34,  1.24,  0.11,  0.13,  0.08, -0.16,\n",
       "        0.63,  0.81])"
      ]
     },
     "execution_count": 2,
     "metadata": {},
     "output_type": "execute_result"
    }
   ],
   "source": [
    "np.random.seed(6)\n",
    "x = np.round(np.random.normal(size=20), 2)\n",
    "x"
   ]
  },
  {
   "cell_type": "markdown",
   "id": "2807483d",
   "metadata": {},
   "source": [
    "* Print all values in $[-2,-1]\\cup[1,2]$.\n",
    "* Print the number and the proportion of nonnegative elements in `x`.\n",
    "* Compute the arithmetic mean of absolute values.\n",
    "* Determine elements in `x` which are the least and the most distant from 0.\n",
    "* Determine 3 elements in `x` which are the most distant from the arithmetic mean of `x`.\n",
    "* Create a vector `x2`, which is a version of `x` with all outliers removed,\n",
    "i.e., all observations $x_i$ such that $x_i\\not\\in[Q_1-1.5IQR, Q_3+1.5IQR]$,\n",
    "where $IQR=Q_3-Q_1$ denotes the interquartile range and $Q_1$ and $Q_3$\n",
    "denote the 1st and 3rd sample quartiles, respectively.\n",
    "* Create a vector `x2`, which is a version of `x` with all outliers removed,\n",
    "i.e., all observations $x_i$ such that $x_i\\not\\in[Q_1-1.5IQR, Q_3+1.5IQR]$,\n",
    "where $IQR=Q_3-Q_1$ denotes the interquartile range and $Q_1$ and $Q_3$\n",
    "denote the 1st and 3rd sample quartiles, respectively."
   ]
  },
  {
   "cell_type": "code",
   "execution_count": null,
   "id": "dc32bba4",
   "metadata": {},
   "outputs": [],
   "source": []
  }
 ],
 "metadata": {
  "kernelspec": {
   "display_name": "Python 3 (ipykernel)",
   "language": "python",
   "name": "python3"
  },
  "language_info": {
   "codemirror_mode": {
    "name": "ipython",
    "version": 3
   },
   "file_extension": ".py",
   "mimetype": "text/x-python",
   "name": "python",
   "nbconvert_exporter": "python",
   "pygments_lexer": "ipython3",
   "version": "3.10.9"
  }
 },
 "nbformat": 4,
 "nbformat_minor": 5
}
